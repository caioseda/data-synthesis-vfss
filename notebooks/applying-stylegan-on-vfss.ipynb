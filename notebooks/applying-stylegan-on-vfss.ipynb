{
 "cells": [
  {
   "cell_type": "markdown",
   "metadata": {},
   "source": [
    "# Training StyleGAN2-ADA on VFSS images\n",
    "Notebook with the shell commands used to train StyleGan2-ADA on VFSS dataset"
   ]
  },
  {
   "cell_type": "code",
   "execution_count": null,
   "metadata": {
    "colab": {
     "base_uri": "https://localhost:8080/"
    },
    "id": "h7AfOlktfGcM",
    "outputId": "9551f9d8-8407-4c4e-bc0f-40e05ca6d708"
   },
   "outputs": [
    {
     "name": "stdout",
     "output_type": "stream",
     "text": [
      "fatal: destination path 'stylegan3' already exists and is not an empty directory.\n"
     ]
    }
   ],
   "source": [
    "# Cloning the StyleGAN3 repository \n",
    "%cd ..\n",
    "!git clone https://github.com/NVlabs/stylegan3\n",
    "%pip install click requests tqdm pyspng ninja imageio-ffmpeg==0.4.3 scipy"
   ]
  },
  {
   "cell_type": "markdown",
   "metadata": {
    "id": "MNj_so8cfGcM"
   },
   "source": [
    "## Optimizing dataset "
   ]
  },
  {
   "cell_type": "code",
   "execution_count": 11,
   "metadata": {
    "colab": {
     "base_uri": "https://localhost:8080/"
    },
    "id": "jOu_wP7bzyzd",
    "outputId": "e8a5c9a6-b806-4e1e-b0d5-bc536ede6dfc"
   },
   "outputs": [
    {
     "name": "stdout",
     "output_type": "stream",
     "text": [
      "100%|█████████████████████████████████████████| 100/100 [00:01<00:00, 65.14it/s]\n"
     ]
    }
   ],
   "source": [
    "!python stylegan3/dataset_tool.py \\\n",
    "    --source=data-synthesis-vfss/data/images/max_constriction \\\n",
    "    --dest=data-synthesis-vfss/data/images/max_constriction.zip"
   ]
  },
  {
   "cell_type": "markdown",
   "metadata": {},
   "source": [
    "## Training dataset"
   ]
  },
  {
   "cell_type": "markdown",
   "metadata": {},
   "source": [
    "Hyperparams set according to the [guide](https://github.com/NVlabs/stylegan3/blob/main/docs/configs.md) provided"
   ]
  },
  {
   "cell_type": "code",
   "execution_count": null,
   "metadata": {
    "colab": {
     "base_uri": "https://localhost:8080/"
    },
    "id": "YDC1UxuwfGcM",
    "outputId": "2298e13e-5274-4c95-de82-7e1703afaf49"
   },
   "outputs": [
    {
     "name": "stdout",
     "output_type": "stream",
     "text": [
      "\n",
      "Training options:\n",
      "{\n",
      "  \"G_kwargs\": {\n",
      "    \"class_name\": \"training.networks_stylegan2.Generator\",\n",
      "    \"z_dim\": 512,\n",
      "    \"w_dim\": 512,\n",
      "    \"mapping_kwargs\": {\n",
      "      \"num_layers\": 2\n",
      "    },\n",
      "    \"channel_base\": 16384,\n",
      "    \"channel_max\": 512,\n",
      "    \"fused_modconv_default\": \"inference_only\"\n",
      "  },\n",
      "  \"D_kwargs\": {\n",
      "    \"class_name\": \"training.networks_stylegan2.Discriminator\",\n",
      "    \"block_kwargs\": {\n",
      "      \"freeze_layers\": 0\n",
      "    },\n",
      "    \"mapping_kwargs\": {},\n",
      "    \"epilogue_kwargs\": {\n",
      "      \"mbstd_group_size\": 4\n",
      "    },\n",
      "    \"channel_base\": 16384,\n",
      "    \"channel_max\": 512\n",
      "  },\n",
      "  \"G_opt_kwargs\": {\n",
      "    \"class_name\": \"torch.optim.Adam\",\n",
      "    \"betas\": [\n",
      "      0,\n",
      "      0.99\n",
      "    ],\n",
      "    \"eps\": 1e-08,\n",
      "    \"lr\": 0.0025\n",
      "  },\n",
      "  \"D_opt_kwargs\": {\n",
      "    \"class_name\": \"torch.optim.Adam\",\n",
      "    \"betas\": [\n",
      "      0,\n",
      "      0.99\n",
      "    ],\n",
      "    \"eps\": 1e-08,\n",
      "    \"lr\": 0.0025\n",
      "  },\n",
      "  \"loss_kwargs\": {\n",
      "    \"class_name\": \"training.loss.StyleGAN2Loss\",\n",
      "    \"r1_gamma\": 0.8192,\n",
      "    \"style_mixing_prob\": 0.9,\n",
      "    \"pl_weight\": 2,\n",
      "    \"pl_no_weight_grad\": true\n",
      "  },\n",
      "  \"data_loader_kwargs\": {\n",
      "    \"pin_memory\": true,\n",
      "    \"prefetch_factor\": 2,\n",
      "    \"num_workers\": 3\n",
      "  },\n",
      "  \"training_set_kwargs\": {\n",
      "    \"class_name\": \"training.dataset.ImageFolderDataset\",\n",
      "    \"path\": \"data-synthesis-vfss/data/images/max_constriction.zip\",\n",
      "    \"use_labels\": false,\n",
      "    \"max_size\": 100,\n",
      "    \"xflip\": false,\n",
      "    \"resolution\": 512,\n",
      "    \"random_seed\": 0\n",
      "  },\n",
      "  \"num_gpus\": 2,\n",
      "  \"batch_size\": 32,\n",
      "  \"batch_gpu\": 16,\n",
      "  \"metrics\": [],\n",
      "  \"total_kimg\": 1000,\n",
      "  \"kimg_per_tick\": 4,\n",
      "  \"image_snapshot_ticks\": 50,\n",
      "  \"network_snapshot_ticks\": 50,\n",
      "  \"random_seed\": 0,\n",
      "  \"ema_kimg\": 10.0,\n",
      "  \"G_reg_interval\": 4,\n",
      "  \"augment_kwargs\": {\n",
      "    \"class_name\": \"training.augment.AugmentPipe\",\n",
      "    \"xflip\": 1,\n",
      "    \"rotate90\": 1,\n",
      "    \"xint\": 1,\n",
      "    \"scale\": 1,\n",
      "    \"rotate\": 1,\n",
      "    \"aniso\": 1,\n",
      "    \"xfrac\": 1,\n",
      "    \"brightness\": 1,\n",
      "    \"contrast\": 1,\n",
      "    \"lumaflip\": 1,\n",
      "    \"hue\": 1,\n",
      "    \"saturation\": 1\n",
      "  },\n",
      "  \"ada_target\": 0.6,\n",
      "  \"run_dir\": \"data-synthesis-vfss/training-runs/00000-stylegan2-max_constriction-gpus2-batch32-gamma0.8192\"\n",
      "}\n",
      "\n",
      "Output directory:    data-synthesis-vfss/training-runs/00000-stylegan2-max_constriction-gpus2-batch32-gamma0.8192\n",
      "Number of GPUs:      2\n",
      "Batch size:          32 images\n",
      "Training duration:   1000 kimg\n",
      "Dataset path:        data-synthesis-vfss/data/images/max_constriction.zip\n",
      "Dataset size:        100 images\n",
      "Dataset resolution:  512\n",
      "Dataset labels:      False\n",
      "Dataset x-flips:     False\n",
      "\n",
      "Creating output directory...\n",
      "Launching processes...\n",
      "Loading training set...\n",
      "/usr/local/lib/python3.10/dist-packages/torch/utils/data/sampler.py:76: UserWarning: `data_source` argument is not used and will be removed in 2.2.0.You may still have custom implementation that utilizes it.\n",
      "  warnings.warn(\n",
      "/usr/local/lib/python3.10/dist-packages/torch/utils/data/sampler.py:76: UserWarning: `data_source` argument is not used and will be removed in 2.2.0.You may still have custom implementation that utilizes it.\n",
      "  warnings.warn(\n",
      "\n",
      "Num images:  100\n",
      "Image shape: [3, 512, 512]\n",
      "Label shape: [0]\n",
      "\n",
      "Constructing networks...\n",
      "Setting up PyTorch plugin \"bias_act_plugin\"... /usr/local/lib/python3.10/dist-packages/torch/utils/cpp_extension.py:1964: UserWarning: TORCH_CUDA_ARCH_LIST is not set, all archs for visible cards are included for compilation. \n",
      "If this is not desired, please set os.environ['TORCH_CUDA_ARCH_LIST'].\n",
      "  warnings.warn(\n",
      "Done.\n",
      "Setting up PyTorch plugin \"upfirdn2d_plugin\"... /usr/local/lib/python3.10/dist-packages/torch/utils/cpp_extension.py:1964: UserWarning: TORCH_CUDA_ARCH_LIST is not set, all archs for visible cards are included for compilation. \n",
      "If this is not desired, please set os.environ['TORCH_CUDA_ARCH_LIST'].\n",
      "  warnings.warn(\n",
      "Done.\n",
      "\n",
      "Generator             Parameters  Buffers  Output shape         Datatype\n",
      "---                   ---         ---      ---                  ---     \n",
      "mapping.fc0           262656      -        [16, 512]            float32 \n",
      "mapping.fc1           262656      -        [16, 512]            float32 \n",
      "mapping               -           512      [16, 16, 512]        float32 \n",
      "synthesis.b4.conv1    2622465     32       [16, 512, 4, 4]      float32 \n",
      "synthesis.b4.torgb    264195      -        [16, 3, 4, 4]        float32 \n",
      "synthesis.b4:0        8192        16       [16, 512, 4, 4]      float32 \n",
      "synthesis.b4:1        -           -        [16, 3, 4, 4]        float32 \n",
      "synthesis.b8.conv0    2622465     80       [16, 512, 8, 8]      float32 \n",
      "synthesis.b8.conv1    2622465     80       [16, 512, 8, 8]      float32 \n",
      "synthesis.b8.torgb    264195      -        [16, 3, 8, 8]        float32 \n",
      "synthesis.b8:0        -           16       [16, 512, 8, 8]      float32 \n",
      "synthesis.b8:1        -           -        [16, 3, 8, 8]        float32 \n",
      "synthesis.b16.conv0   2622465     272      [16, 512, 16, 16]    float32 \n",
      "synthesis.b16.conv1   2622465     272      [16, 512, 16, 16]    float32 \n",
      "synthesis.b16.torgb   264195      -        [16, 3, 16, 16]      float32 \n",
      "synthesis.b16:0       -           16       [16, 512, 16, 16]    float32 \n",
      "synthesis.b16:1       -           -        [16, 3, 16, 16]      float32 \n",
      "synthesis.b32.conv0   2622465     1040     [16, 512, 32, 32]    float32 \n",
      "synthesis.b32.conv1   2622465     1040     [16, 512, 32, 32]    float32 \n",
      "synthesis.b32.torgb   264195      -        [16, 3, 32, 32]      float32 \n",
      "synthesis.b32:0       -           16       [16, 512, 32, 32]    float32 \n",
      "synthesis.b32:1       -           -        [16, 3, 32, 32]      float32 \n",
      "synthesis.b64.conv0   1442561     4112     [16, 256, 64, 64]    float16 \n",
      "synthesis.b64.conv1   721409      4112     [16, 256, 64, 64]    float16 \n",
      "synthesis.b64.torgb   132099      -        [16, 3, 64, 64]      float16 \n",
      "synthesis.b64:0       -           16       [16, 256, 64, 64]    float16 \n",
      "synthesis.b64:1       -           -        [16, 3, 64, 64]      float32 \n",
      "synthesis.b128.conv0  426369      16400    [16, 128, 128, 128]  float16 \n",
      "synthesis.b128.conv1  213249      16400    [16, 128, 128, 128]  float16 \n",
      "synthesis.b128.torgb  66051       -        [16, 3, 128, 128]    float16 \n",
      "synthesis.b128:0      -           16       [16, 128, 128, 128]  float16 \n",
      "synthesis.b128:1      -           -        [16, 3, 128, 128]    float32 \n",
      "synthesis.b256.conv0  139457      65552    [16, 64, 256, 256]   float16 \n",
      "synthesis.b256.conv1  69761       65552    [16, 64, 256, 256]   float16 \n",
      "synthesis.b256.torgb  33027       -        [16, 3, 256, 256]    float16 \n",
      "synthesis.b256:0      -           16       [16, 64, 256, 256]   float16 \n",
      "synthesis.b256:1      -           -        [16, 3, 256, 256]    float32 \n",
      "synthesis.b512.conv0  51297       262160   [16, 32, 512, 512]   float16 \n",
      "synthesis.b512.conv1  25665       262160   [16, 32, 512, 512]   float16 \n",
      "synthesis.b512.torgb  16515       -        [16, 3, 512, 512]    float16 \n",
      "synthesis.b512:0      -           16       [16, 32, 512, 512]   float16 \n",
      "synthesis.b512:1      -           -        [16, 3, 512, 512]    float32 \n",
      "---                   ---         ---      ---                  ---     \n",
      "Total                 23284999    699904   -                    -       \n",
      "\n",
      "\n",
      "Discriminator  Parameters  Buffers  Output shape         Datatype\n",
      "---            ---         ---      ---                  ---     \n",
      "b512.fromrgb   128         16       [16, 32, 512, 512]   float16 \n",
      "b512.skip      2048        16       [16, 64, 256, 256]   float16 \n",
      "b512.conv0     9248        16       [16, 32, 512, 512]   float16 \n",
      "b512.conv1     18496       16       [16, 64, 256, 256]   float16 \n",
      "b512           -           16       [16, 64, 256, 256]   float16 \n",
      "b256.skip      8192        16       [16, 128, 128, 128]  float16 \n",
      "b256.conv0     36928       16       [16, 64, 256, 256]   float16 \n",
      "b256.conv1     73856       16       [16, 128, 128, 128]  float16 \n",
      "b256           -           16       [16, 128, 128, 128]  float16 \n",
      "b128.skip      32768       16       [16, 256, 64, 64]    float16 \n",
      "b128.conv0     147584      16       [16, 128, 128, 128]  float16 \n",
      "b128.conv1     295168      16       [16, 256, 64, 64]    float16 \n",
      "b128           -           16       [16, 256, 64, 64]    float16 \n",
      "b64.skip       131072      16       [16, 512, 32, 32]    float16 \n",
      "b64.conv0      590080      16       [16, 256, 64, 64]    float16 \n",
      "b64.conv1      1180160     16       [16, 512, 32, 32]    float16 \n",
      "b64            -           16       [16, 512, 32, 32]    float16 \n",
      "b32.skip       262144      16       [16, 512, 16, 16]    float32 \n",
      "b32.conv0      2359808     16       [16, 512, 32, 32]    float32 \n",
      "b32.conv1      2359808     16       [16, 512, 16, 16]    float32 \n",
      "b32            -           16       [16, 512, 16, 16]    float32 \n",
      "b16.skip       262144      16       [16, 512, 8, 8]      float32 \n",
      "b16.conv0      2359808     16       [16, 512, 16, 16]    float32 \n",
      "b16.conv1      2359808     16       [16, 512, 8, 8]      float32 \n",
      "b16            -           16       [16, 512, 8, 8]      float32 \n",
      "b8.skip        262144      16       [16, 512, 4, 4]      float32 \n",
      "b8.conv0       2359808     16       [16, 512, 8, 8]      float32 \n",
      "b8.conv1       2359808     16       [16, 512, 4, 4]      float32 \n",
      "b8             -           16       [16, 512, 4, 4]      float32 \n",
      "b4.mbstd       -           -        [16, 513, 4, 4]      float32 \n",
      "b4.conv        2364416     16       [16, 512, 4, 4]      float32 \n",
      "b4.fc          4194816     -        [16, 512]            float32 \n",
      "b4.out         513         -        [16, 1]              float32 \n",
      "---            ---         ---      ---                  ---     \n",
      "Total          24030753    480      -                    -       \n",
      "\n",
      "Setting up augmentation...\n",
      "Distributing across 2 GPUs...\n",
      "Setting up training phases...\n",
      "Exporting sample images...\n",
      "/usr/local/lib/python3.10/dist-packages/torch/utils/cpp_extension.py:1964: UserWarning: TORCH_CUDA_ARCH_LIST is not set, all archs for visible cards are included for compilation. \n",
      "If this is not desired, please set os.environ['TORCH_CUDA_ARCH_LIST'].\n",
      "  warnings.warn(\n",
      "/usr/local/lib/python3.10/dist-packages/torch/utils/cpp_extension.py:1964: UserWarning: TORCH_CUDA_ARCH_LIST is not set, all archs for visible cards are included for compilation. \n",
      "If this is not desired, please set os.environ['TORCH_CUDA_ARCH_LIST'].\n",
      "  warnings.warn(\n",
      "Initializing logs...\n",
      "Skipping tfevents export: No module named 'tensorboard'\n",
      "Training for 1000 kimg...\n",
      "\n",
      "tick 0     kimg 0.0      time 1m 52s       sec/tick 34.4    sec/kimg 1074.53 maintenance 77.4   cpumem 2.34   gpumem 14.05  reserved 14.42  augment 0.000\n",
      "tick 1     kimg 4.0      time 3m 20s       sec/tick 72.9    sec/kimg 18.23   maintenance 15.6   cpumem 2.71   gpumem 8.03   reserved 9.29   augment 0.006\n",
      "tick 2     kimg 8.0      time 4m 34s       sec/tick 73.5    sec/kimg 18.36   maintenance 0.0    cpumem 2.71   gpumem 8.03   reserved 9.29   augment 0.012\n",
      "tick 3     kimg 12.0     time 5m 48s       sec/tick 73.8    sec/kimg 18.45   maintenance 0.1    cpumem 2.71   gpumem 8.07   reserved 9.93   augment 0.019\n",
      "tick 4     kimg 16.0     time 7m 02s       sec/tick 74.1    sec/kimg 18.52   maintenance 0.0    cpumem 2.71   gpumem 8.04   reserved 9.93   augment 0.026\n",
      "tick 5     kimg 20.0     time 8m 16s       sec/tick 73.8    sec/kimg 18.46   maintenance 0.1    cpumem 2.71   gpumem 8.04   reserved 9.93   augment 0.034\n",
      "tick 6     kimg 24.0     time 9m 29s       sec/tick 73.3    sec/kimg 18.32   maintenance 0.1    cpumem 2.71   gpumem 8.19   reserved 10.47  augment 0.040\n",
      "tick 7     kimg 28.0     time 10m 43s      sec/tick 73.6    sec/kimg 18.40   maintenance 0.1    cpumem 2.71   gpumem 8.11   reserved 10.47  augment 0.047\n",
      "tick 8     kimg 32.0     time 11m 57s      sec/tick 74.0    sec/kimg 18.50   maintenance 0.0    cpumem 2.71   gpumem 8.12   reserved 10.47  augment 0.051\n",
      "tick 9     kimg 36.0     time 13m 11s      sec/tick 74.0    sec/kimg 18.49   maintenance 0.1    cpumem 2.71   gpumem 8.19   reserved 11.77  augment 0.051\n",
      "tick 10    kimg 40.0     time 14m 25s      sec/tick 73.9    sec/kimg 18.48   maintenance 0.1    cpumem 2.72   gpumem 8.07   reserved 11.77  augment 0.057\n",
      "tick 13    kimg 52.0     time 18m 07s      sec/tick 74.1    sec/kimg 18.52   maintenance 0.1    cpumem 2.72   gpumem 8.11   reserved 13.70  augment 0.065\n",
      "tick 14    kimg 56.0     time 19m 21s      sec/tick 73.9    sec/kimg 18.49   maintenance 0.0    cpumem 2.72   gpumem 8.15   reserved 13.70  augment 0.067\n",
      "tick 15    kimg 60.0     time 20m 34s      sec/tick 73.7    sec/kimg 18.42   maintenance 0.1    cpumem 2.72   gpumem 8.18   reserved 13.70  augment 0.068\n",
      "tick 16    kimg 64.0     time 21m 48s      sec/tick 73.6    sec/kimg 18.41   maintenance 0.0    cpumem 2.72   gpumem 8.25   reserved 13.70  augment 0.072\n",
      "tick 17    kimg 68.0     time 23m 02s      sec/tick 73.7    sec/kimg 18.43   maintenance 0.5    cpumem 2.72   gpumem 8.22   reserved 13.70  augment 0.078\n",
      "tick 18    kimg 72.0     time 24m 17s      sec/tick 74.5    sec/kimg 18.63   maintenance 0.0    cpumem 2.72   gpumem 8.35   reserved 13.70  augment 0.085\n",
      "tick 19    kimg 76.0     time 25m 31s      sec/tick 73.8    sec/kimg 18.45   maintenance 0.1    cpumem 2.72   gpumem 8.39   reserved 13.70  augment 0.093\n",
      "tick 20    kimg 80.0     time 26m 45s      sec/tick 74.2    sec/kimg 18.56   maintenance 0.0    cpumem 2.72   gpumem 8.39   reserved 13.70  augment 0.096\n",
      "tick 21    kimg 84.0     time 27m 59s      sec/tick 73.8    sec/kimg 18.44   maintenance 0.1    cpumem 2.72   gpumem 8.30   reserved 13.70  augment 0.100\n",
      "tick 22    kimg 88.0     time 29m 12s      sec/tick 73.4    sec/kimg 18.34   maintenance 0.1    cpumem 2.72   gpumem 8.15   reserved 13.70  augment 0.107\n",
      "tick 23    kimg 92.0     time 30m 26s      sec/tick 74.2    sec/kimg 18.55   maintenance 0.0    cpumem 2.72   gpumem 8.33   reserved 13.70  augment 0.109\n",
      "tick 24    kimg 96.0     time 31m 41s      sec/tick 74.4    sec/kimg 18.60   maintenance 0.0    cpumem 2.72   gpumem 8.23   reserved 13.70  augment 0.115\n",
      "tick 25    kimg 100.0    time 32m 55s      sec/tick 74.1    sec/kimg 18.53   maintenance 0.0    cpumem 2.72   gpumem 8.22   reserved 13.70  augment 0.119\n",
      "tick 26    kimg 104.0    time 34m 09s      sec/tick 73.9    sec/kimg 18.47   maintenance 0.1    cpumem 2.72   gpumem 8.35   reserved 13.70  augment 0.126\n",
      "tick 27    kimg 108.0    time 35m 23s      sec/tick 73.8    sec/kimg 18.46   maintenance 0.1    cpumem 2.72   gpumem 8.23   reserved 13.70  augment 0.132\n",
      "tick 28    kimg 112.0    time 36m 38s      sec/tick 74.7    sec/kimg 18.68   maintenance 0.0    cpumem 2.72   gpumem 8.28   reserved 14.74  augment 0.138\n",
      "tick 29    kimg 116.0    time 37m 52s      sec/tick 74.1    sec/kimg 18.52   maintenance 0.1    cpumem 2.72   gpumem 8.29   reserved 14.74  augment 0.144\n",
      "tick 30    kimg 120.0    time 39m 06s      sec/tick 73.9    sec/kimg 18.47   maintenance 0.1    cpumem 2.72   gpumem 8.25   reserved 14.74  augment 0.149\n",
      "tick 31    kimg 124.0    time 40m 20s      sec/tick 74.0    sec/kimg 18.50   maintenance 0.1    cpumem 2.72   gpumem 8.30   reserved 14.74  augment 0.157\n",
      "tick 32    kimg 128.0    time 41m 34s      sec/tick 73.9    sec/kimg 18.47   maintenance 0.0    cpumem 2.72   gpumem 8.42   reserved 14.74  augment 0.161\n",
      "tick 33    kimg 132.0    time 42m 48s      sec/tick 73.5    sec/kimg 18.37   maintenance 0.6    cpumem 2.72   gpumem 8.22   reserved 14.74  augment 0.167\n",
      "tick 34    kimg 136.0    time 44m 02s      sec/tick 74.1    sec/kimg 18.52   maintenance 0.1    cpumem 2.72   gpumem 8.32   reserved 14.74  augment 0.174\n",
      "tick 35    kimg 140.0    time 45m 16s      sec/tick 74.2    sec/kimg 18.56   maintenance 0.1    cpumem 2.72   gpumem 8.39   reserved 14.74  augment 0.180\n",
      "tick 36    kimg 144.0    time 46m 31s      sec/tick 74.6    sec/kimg 18.64   maintenance 0.0    cpumem 2.72   gpumem 8.40   reserved 14.74  augment 0.187\n",
      "tick 37    kimg 148.0    time 47m 45s      sec/tick 74.2    sec/kimg 18.56   maintenance 0.1    cpumem 2.72   gpumem 8.39   reserved 14.75  augment 0.192\n",
      "tick 38    kimg 152.0    time 48m 59s      sec/tick 73.6    sec/kimg 18.40   maintenance 0.1    cpumem 2.72   gpumem 8.42   reserved 14.75  augment 0.197\n",
      "tick 39    kimg 156.0    time 50m 13s      sec/tick 74.3    sec/kimg 18.57   maintenance 0.1    cpumem 2.72   gpumem 8.32   reserved 14.75  augment 0.200\n",
      "tick 40    kimg 160.0    time 51m 28s      sec/tick 74.6    sec/kimg 18.64   maintenance 0.0    cpumem 2.72   gpumem 8.40   reserved 14.75  augment 0.202\n",
      "tick 41    kimg 164.0    time 52m 42s      sec/tick 74.6    sec/kimg 18.64   maintenance 0.1    cpumem 2.72   gpumem 8.42   reserved 14.75  augment 0.205\n",
      "tick 42    kimg 168.0    time 53m 57s      sec/tick 74.4    sec/kimg 18.60   maintenance 0.0    cpumem 2.72   gpumem 8.27   reserved 14.75  augment 0.202\n",
      "tick 43    kimg 172.0    time 55m 10s      sec/tick 73.7    sec/kimg 18.42   maintenance 0.1    cpumem 2.72   gpumem 8.27   reserved 14.75  augment 0.206\n",
      "tick 44    kimg 176.0    time 56m 25s      sec/tick 74.5    sec/kimg 18.62   maintenance 0.0    cpumem 2.72   gpumem 8.36   reserved 14.75  augment 0.208\n",
      "tick 45    kimg 180.0    time 57m 39s      sec/tick 74.2    sec/kimg 18.55   maintenance 0.1    cpumem 2.72   gpumem 8.29   reserved 14.75  augment 0.213\n",
      "tick 46    kimg 184.0    time 58m 53s      sec/tick 74.2    sec/kimg 18.55   maintenance 0.1    cpumem 2.72   gpumem 8.37   reserved 14.75  augment 0.211\n",
      "tick 47    kimg 188.0    time 1h 00m 08s   sec/tick 74.1    sec/kimg 18.54   maintenance 0.1    cpumem 2.72   gpumem 8.36   reserved 14.75  augment 0.215\n",
      "tick 48    kimg 192.0    time 1h 01m 22s   sec/tick 74.2    sec/kimg 18.55   maintenance 0.0    cpumem 2.72   gpumem 8.33   reserved 14.75  augment 0.221\n",
      "tick 49    kimg 196.0    time 1h 02m 36s   sec/tick 73.7    sec/kimg 18.42   maintenance 0.5    cpumem 2.72   gpumem 8.31   reserved 14.75  augment 0.225\n",
      "tick 50    kimg 200.0    time 1h 03m 51s   sec/tick 74.5    sec/kimg 18.61   maintenance 0.1    cpumem 2.72   gpumem 8.37   reserved 14.75  augment 0.230\n",
      "tick 51    kimg 204.0    time 1h 05m 19s   sec/tick 74.6    sec/kimg 18.64   maintenance 14.2   cpumem 2.72   gpumem 8.53   reserved 14.75  augment 0.234\n",
      "tick 52    kimg 208.0    time 1h 06m 34s   sec/tick 74.9    sec/kimg 18.71   maintenance 0.0    cpumem 2.72   gpumem 8.36   reserved 14.75  augment 0.237\n",
      "tick 53    kimg 212.0    time 1h 07m 49s   sec/tick 74.3    sec/kimg 18.57   maintenance 0.1    cpumem 2.72   gpumem 8.44   reserved 14.75  augment 0.243\n",
      "tick 54    kimg 216.0    time 1h 09m 03s   sec/tick 74.2    sec/kimg 18.55   maintenance 0.1    cpumem 2.72   gpumem 8.29   reserved 14.75  augment 0.247\n",
      "tick 55    kimg 220.0    time 1h 10m 18s   sec/tick 74.9    sec/kimg 18.74   maintenance 0.0    cpumem 2.72   gpumem 8.33   reserved 14.75  augment 0.251\n",
      "tick 56    kimg 224.0    time 1h 11m 32s   sec/tick 74.6    sec/kimg 18.66   maintenance 0.0    cpumem 2.72   gpumem 8.37   reserved 14.75  augment 0.258\n",
      "tick 57    kimg 228.0    time 1h 12m 47s   sec/tick 74.5    sec/kimg 18.61   maintenance 0.1    cpumem 2.72   gpumem 8.36   reserved 14.75  augment 0.263\n",
      "tick 58    kimg 232.0    time 1h 14m 02s   sec/tick 74.8    sec/kimg 18.69   maintenance 0.0    cpumem 2.72   gpumem 8.48   reserved 14.75  augment 0.268\n",
      "tick 59    kimg 236.0    time 1h 15m 16s   sec/tick 73.9    sec/kimg 18.48   maintenance 0.0    cpumem 2.72   gpumem 8.45   reserved 14.75  augment 0.274\n",
      "tick 60    kimg 240.0    time 1h 16m 30s   sec/tick 74.7    sec/kimg 18.67   maintenance 0.0    cpumem 2.72   gpumem 8.44   reserved 14.75  augment 0.278\n",
      "tick 61    kimg 244.0    time 1h 17m 45s   sec/tick 74.4    sec/kimg 18.60   maintenance 0.1    cpumem 2.72   gpumem 8.40   reserved 14.75  augment 0.280\n",
      "tick 62    kimg 248.0    time 1h 18m 59s   sec/tick 74.4    sec/kimg 18.61   maintenance 0.1    cpumem 2.72   gpumem 8.49   reserved 14.75  augment 0.283\n",
      "tick 63    kimg 252.0    time 1h 20m 14s   sec/tick 74.5    sec/kimg 18.61   maintenance 0.1    cpumem 2.72   gpumem 8.36   reserved 14.75  augment 0.285\n",
      "tick 64    kimg 256.0    time 1h 21m 28s   sec/tick 74.4    sec/kimg 18.61   maintenance 0.0    cpumem 2.72   gpumem 8.43   reserved 14.75  augment 0.286\n",
      "tick 65    kimg 260.0    time 1h 22m 43s   sec/tick 74.3    sec/kimg 18.59   maintenance 0.6    cpumem 2.72   gpumem 8.47   reserved 14.75  augment 0.291\n",
      "tick 66    kimg 264.0    time 1h 23m 59s   sec/tick 75.3    sec/kimg 18.82   maintenance 0.0    cpumem 2.72   gpumem 8.53   reserved 14.75  augment 0.291\n",
      "tick 67    kimg 268.0    time 1h 25m 13s   sec/tick 74.6    sec/kimg 18.66   maintenance 0.1    cpumem 2.72   gpumem 8.45   reserved 14.75  augment 0.285\n",
      "tick 68    kimg 272.0    time 1h 26m 28s   sec/tick 75.0    sec/kimg 18.76   maintenance 0.0    cpumem 2.72   gpumem 8.45   reserved 14.75  augment 0.286\n",
      "tick 69    kimg 276.0    time 1h 27m 43s   sec/tick 74.5    sec/kimg 18.63   maintenance 0.1    cpumem 2.72   gpumem 8.36   reserved 14.75  augment 0.288\n",
      "tick 70    kimg 280.0    time 1h 28m 57s   sec/tick 73.8    sec/kimg 18.45   maintenance 0.1    cpumem 2.72   gpumem 8.32   reserved 14.75  augment 0.289\n",
      "tick 71    kimg 284.0    time 1h 30m 12s   sec/tick 74.9    sec/kimg 18.72   maintenance 0.1    cpumem 2.72   gpumem 8.53   reserved 14.75  augment 0.288\n",
      "tick 72    kimg 288.0    time 1h 31m 26s   sec/tick 74.8    sec/kimg 18.69   maintenance 0.0    cpumem 2.72   gpumem 8.51   reserved 14.75  augment 0.295\n",
      "tick 73    kimg 292.0    time 1h 32m 41s   sec/tick 74.4    sec/kimg 18.61   maintenance 0.1    cpumem 2.72   gpumem 8.41   reserved 14.75  augment 0.300\n",
      "tick 74    kimg 296.0    time 1h 33m 56s   sec/tick 74.5    sec/kimg 18.63   maintenance 0.1    cpumem 2.72   gpumem 8.46   reserved 14.75  augment 0.304\n",
      "tick 76    kimg 304.0    time 1h 36m 25s   sec/tick 75.0    sec/kimg 18.74   maintenance 0.0    cpumem 2.72   gpumem 8.45   reserved 14.75  augment 0.302\n",
      "tick 77    kimg 308.0    time 1h 37m 39s   sec/tick 74.3    sec/kimg 18.58   maintenance 0.1    cpumem 2.72   gpumem 8.47   reserved 14.75  augment 0.310\n",
      "tick 78    kimg 312.0    time 1h 38m 54s   sec/tick 74.3    sec/kimg 18.56   maintenance 0.1    cpumem 2.72   gpumem 8.45   reserved 14.75  augment 0.315\n",
      "tick 79    kimg 316.0    time 1h 40m 08s   sec/tick 74.6    sec/kimg 18.66   maintenance 0.1    cpumem 2.72   gpumem 8.48   reserved 14.75  augment 0.323\n",
      "tick 80    kimg 320.0    time 1h 41m 23s   sec/tick 74.6    sec/kimg 18.64   maintenance 0.0    cpumem 2.72   gpumem 8.61   reserved 14.75  augment 0.327\n",
      "tick 81    kimg 324.0    time 1h 42m 38s   sec/tick 74.4    sec/kimg 18.61   maintenance 0.5    cpumem 2.72   gpumem 8.83   reserved 14.75  augment 0.334\n",
      "tick 82    kimg 328.0    time 1h 43m 53s   sec/tick 75.1    sec/kimg 18.78   maintenance 0.1    cpumem 2.72   gpumem 8.62   reserved 10.68  augment 0.338\n",
      "tick 83    kimg 332.0    time 1h 45m 08s   sec/tick 74.8    sec/kimg 18.71   maintenance 0.0    cpumem 2.72   gpumem 8.36   reserved 10.68  augment 0.341\n",
      "tick 84    kimg 336.0    time 1h 46m 23s   sec/tick 75.4    sec/kimg 18.85   maintenance 0.0    cpumem 2.72   gpumem 8.45   reserved 10.68  augment 0.341\n",
      "tick 85    kimg 340.0    time 1h 47m 39s   sec/tick 75.1    sec/kimg 18.78   maintenance 0.0    cpumem 2.72   gpumem 8.45   reserved 10.68  augment 0.345\n",
      "tick 86    kimg 344.0    time 1h 48m 53s   sec/tick 74.0    sec/kimg 18.49   maintenance 0.1    cpumem 2.72   gpumem 8.40   reserved 10.68  augment 0.345\n",
      "tick 87    kimg 348.0    time 1h 50m 07s   sec/tick 74.6    sec/kimg 18.65   maintenance 0.1    cpumem 2.72   gpumem 8.48   reserved 10.68  augment 0.349\n",
      "tick 88    kimg 352.0    time 1h 51m 22s   sec/tick 75.1    sec/kimg 18.78   maintenance 0.0    cpumem 2.72   gpumem 8.70   reserved 10.68  augment 0.348\n",
      "tick 89    kimg 356.0    time 1h 52m 37s   sec/tick 74.9    sec/kimg 18.74   maintenance 0.1    cpumem 2.72   gpumem 8.55   reserved 10.68  augment 0.344\n",
      "tick 90    kimg 360.0    time 1h 53m 53s   sec/tick 75.4    sec/kimg 18.85   maintenance 0.0    cpumem 2.72   gpumem 8.49   reserved 10.68  augment 0.349\n",
      "tick 91    kimg 364.0    time 1h 55m 07s   sec/tick 74.5    sec/kimg 18.63   maintenance 0.0    cpumem 2.73   gpumem 8.69   reserved 10.68  augment 0.351\n",
      "tick 92    kimg 368.0    time 1h 56m 22s   sec/tick 75.1    sec/kimg 18.78   maintenance 0.0    cpumem 2.73   gpumem 8.54   reserved 10.68  augment 0.350\n",
      "tick 93    kimg 372.0    time 1h 57m 37s   sec/tick 74.6    sec/kimg 18.65   maintenance 0.1    cpumem 2.73   gpumem 8.39   reserved 10.68  augment 0.355\n",
      "tick 94    kimg 376.0    time 1h 58m 52s   sec/tick 74.6    sec/kimg 18.65   maintenance 0.1    cpumem 2.73   gpumem 8.47   reserved 10.68  augment 0.353\n",
      "tick 95    kimg 380.0    time 2h 00m 07s   sec/tick 75.2    sec/kimg 18.79   maintenance 0.0    cpumem 2.73   gpumem 8.41   reserved 10.68  augment 0.352\n",
      "tick 96    kimg 384.0    time 2h 01m 22s   sec/tick 74.6    sec/kimg 18.64   maintenance 0.0    cpumem 2.73   gpumem 8.40   reserved 10.68  augment 0.351\n",
      "tick 97    kimg 388.0    time 2h 02m 36s   sec/tick 74.3    sec/kimg 18.57   maintenance 0.5    cpumem 2.73   gpumem 8.40   reserved 10.68  augment 0.357\n",
      "tick 98    kimg 392.0    time 2h 03m 51s   sec/tick 74.9    sec/kimg 18.72   maintenance 0.1    cpumem 2.73   gpumem 8.48   reserved 10.68  augment 0.356\n",
      "tick 99    kimg 396.0    time 2h 05m 06s   sec/tick 74.6    sec/kimg 18.66   maintenance 0.0    cpumem 2.73   gpumem 8.57   reserved 10.68  augment 0.356\n",
      "tick 100   kimg 400.0    time 2h 06m 21s   sec/tick 75.0    sec/kimg 18.76   maintenance 0.0    cpumem 2.73   gpumem 8.56   reserved 10.69  augment 0.357\n",
      "tick 101   kimg 404.0    time 2h 07m 48s   sec/tick 74.5    sec/kimg 18.64   maintenance 12.7   cpumem 2.94   gpumem 8.50   reserved 10.69  augment 0.355\n",
      "tick 102   kimg 408.0    time 2h 09m 02s   sec/tick 73.9    sec/kimg 18.48   maintenance 0.1    cpumem 2.94   gpumem 8.49   reserved 10.69  augment 0.353\n",
      "tick 103   kimg 412.0    time 2h 10m 17s   sec/tick 74.9    sec/kimg 18.72   maintenance 0.1    cpumem 2.94   gpumem 8.47   reserved 10.69  augment 0.355\n",
      "tick 104   kimg 416.0    time 2h 11m 33s   sec/tick 75.4    sec/kimg 18.86   maintenance 0.0    cpumem 2.94   gpumem 8.59   reserved 10.69  augment 0.356\n",
      "tick 105   kimg 420.0    time 2h 12m 47s   sec/tick 74.6    sec/kimg 18.66   maintenance 0.0    cpumem 2.94   gpumem 8.52   reserved 10.69  augment 0.356\n",
      "tick 106   kimg 424.0    time 2h 14m 02s   sec/tick 74.4    sec/kimg 18.61   maintenance 0.1    cpumem 2.94   gpumem 8.39   reserved 10.69  augment 0.354\n",
      "tick 107   kimg 428.0    time 2h 15m 16s   sec/tick 73.9    sec/kimg 18.48   maintenance 0.1    cpumem 2.94   gpumem 8.47   reserved 10.69  augment 0.352\n",
      "tick 108   kimg 432.0    time 2h 16m 31s   sec/tick 75.2    sec/kimg 18.79   maintenance 0.0    cpumem 2.94   gpumem 8.46   reserved 10.69  augment 0.355\n",
      "tick 109   kimg 436.0    time 2h 17m 46s   sec/tick 74.5    sec/kimg 18.64   maintenance 0.1    cpumem 2.94   gpumem 8.49   reserved 10.69  augment 0.353\n",
      "tick 110   kimg 440.0    time 2h 19m 00s   sec/tick 74.5    sec/kimg 18.62   maintenance 0.1    cpumem 2.94   gpumem 8.46   reserved 10.69  augment 0.350\n",
      "tick 111   kimg 444.0    time 2h 20m 15s   sec/tick 74.9    sec/kimg 18.73   maintenance 0.1    cpumem 2.94   gpumem 8.50   reserved 10.69  augment 0.351\n",
      "tick 112   kimg 448.0    time 2h 21m 30s   sec/tick 75.0    sec/kimg 18.76   maintenance 0.0    cpumem 2.94   gpumem 8.50   reserved 10.69  augment 0.353\n",
      "tick 113   kimg 452.0    time 2h 22m 45s   sec/tick 74.3    sec/kimg 18.57   maintenance 0.5    cpumem 2.94   gpumem 8.42   reserved 10.69  augment 0.351\n",
      "tick 114   kimg 456.0    time 2h 24m 00s   sec/tick 74.7    sec/kimg 18.68   maintenance 0.1    cpumem 2.94   gpumem 8.48   reserved 10.69  augment 0.353\n",
      "tick 115   kimg 460.0    time 2h 25m 14s   sec/tick 74.7    sec/kimg 18.67   maintenance 0.1    cpumem 2.94   gpumem 8.55   reserved 10.69  augment 0.354\n",
      "tick 116   kimg 464.0    time 2h 26m 29s   sec/tick 75.0    sec/kimg 18.75   maintenance 0.0    cpumem 2.94   gpumem 8.39   reserved 10.69  augment 0.354\n",
      "tick 117   kimg 468.0    time 2h 27m 44s   sec/tick 74.7    sec/kimg 18.67   maintenance 0.1    cpumem 2.94   gpumem 8.65   reserved 10.69  augment 0.353\n",
      "tick 118   kimg 472.0    time 2h 28m 58s   sec/tick 74.0    sec/kimg 18.49   maintenance 0.1    cpumem 2.94   gpumem 8.44   reserved 10.69  augment 0.352\n",
      "tick 119   kimg 476.0    time 2h 30m 13s   sec/tick 74.6    sec/kimg 18.65   maintenance 0.1    cpumem 2.94   gpumem 8.52   reserved 10.69  augment 0.355\n",
      "tick 120   kimg 480.0    time 2h 31m 28s   sec/tick 75.1    sec/kimg 18.77   maintenance 0.0    cpumem 2.94   gpumem 8.43   reserved 10.69  augment 0.360\n",
      "tick 121   kimg 484.0    time 2h 32m 43s   sec/tick 74.9    sec/kimg 18.72   maintenance 0.1    cpumem 2.94   gpumem 8.44   reserved 10.69  augment 0.358\n",
      "tick 122   kimg 488.0    time 2h 33m 58s   sec/tick 74.6    sec/kimg 18.65   maintenance 0.1    cpumem 2.94   gpumem 8.50   reserved 10.69  augment 0.358\n",
      "tick 123   kimg 492.0    time 2h 35m 12s   sec/tick 74.1    sec/kimg 18.52   maintenance 0.1    cpumem 2.94   gpumem 8.47   reserved 10.69  augment 0.356\n",
      "tick 124   kimg 496.0    time 2h 36m 27s   sec/tick 75.2    sec/kimg 18.79   maintenance 0.0    cpumem 2.94   gpumem 8.50   reserved 10.69  augment 0.357\n",
      "tick 125   kimg 500.0    time 2h 37m 42s   sec/tick 74.8    sec/kimg 18.69   maintenance 0.1    cpumem 2.94   gpumem 8.40   reserved 10.69  augment 0.360\n",
      "tick 126   kimg 504.0    time 2h 38m 56s   sec/tick 74.7    sec/kimg 18.66   maintenance 0.1    cpumem 2.94   gpumem 8.43   reserved 10.69  augment 0.361\n",
      "tick 127   kimg 508.0    time 2h 40m 11s   sec/tick 74.9    sec/kimg 18.73   maintenance 0.1    cpumem 2.94   gpumem 8.72   reserved 10.69  augment 0.362\n",
      "tick 128   kimg 512.0    time 2h 41m 26s   sec/tick 74.4    sec/kimg 18.61   maintenance 0.0    cpumem 2.94   gpumem 8.52   reserved 10.69  augment 0.364\n",
      "tick 129   kimg 516.0    time 2h 42m 40s   sec/tick 73.9    sec/kimg 18.47   maintenance 0.6    cpumem 2.94   gpumem 8.49   reserved 11.92  augment 0.366\n",
      "tick 130   kimg 520.0    time 2h 43m 55s   sec/tick 74.6    sec/kimg 18.65   maintenance 0.1    cpumem 2.94   gpumem 8.56   reserved 11.92  augment 0.369\n",
      "tick 131   kimg 524.0    time 2h 45m 10s   sec/tick 74.7    sec/kimg 18.67   maintenance 0.1    cpumem 2.95   gpumem 8.52   reserved 11.92  augment 0.371\n",
      "tick 132   kimg 528.0    time 2h 46m 25s   sec/tick 75.1    sec/kimg 18.77   maintenance 0.0    cpumem 2.95   gpumem 8.64   reserved 11.92  augment 0.373\n",
      "tick 133   kimg 532.0    time 2h 47m 40s   sec/tick 74.8    sec/kimg 18.69   maintenance 0.1    cpumem 2.95   gpumem 8.46   reserved 11.93  augment 0.375\n",
      "tick 134   kimg 536.0    time 2h 48m 54s   sec/tick 74.1    sec/kimg 18.53   maintenance 0.1    cpumem 2.95   gpumem 8.56   reserved 11.93  augment 0.374\n",
      "tick 135   kimg 540.0    time 2h 50m 09s   sec/tick 74.7    sec/kimg 18.68   maintenance 0.1    cpumem 2.95   gpumem 8.44   reserved 11.93  augment 0.372\n",
      "tick 138   kimg 552.0    time 2h 53m 53s   sec/tick 74.6    sec/kimg 18.65   maintenance 0.1    cpumem 2.95   gpumem 8.45   reserved 11.93  augment 0.380\n",
      "tick 139   kimg 556.0    time 2h 55m 08s   sec/tick 74.8    sec/kimg 18.71   maintenance 0.1    cpumem 2.95   gpumem 8.48   reserved 11.93  augment 0.380\n",
      "tick 140   kimg 560.0    time 2h 56m 23s   sec/tick 75.1    sec/kimg 18.79   maintenance 0.0    cpumem 2.95   gpumem 8.48   reserved 11.93  augment 0.383\n",
      "tick 141   kimg 564.0    time 2h 57m 38s   sec/tick 74.6    sec/kimg 18.66   maintenance 0.1    cpumem 2.95   gpumem 8.45   reserved 11.93  augment 0.388\n",
      "tick 142   kimg 568.0    time 2h 58m 52s   sec/tick 74.6    sec/kimg 18.66   maintenance 0.1    cpumem 2.95   gpumem 8.48   reserved 11.93  augment 0.384\n",
      "tick 143   kimg 572.0    time 3h 00m 07s   sec/tick 74.8    sec/kimg 18.69   maintenance 0.1    cpumem 2.95   gpumem 8.45   reserved 11.93  augment 0.383\n",
      "tick 144   kimg 576.0    time 3h 01m 22s   sec/tick 74.5    sec/kimg 18.63   maintenance 0.0    cpumem 2.95   gpumem 8.53   reserved 11.93  augment 0.387\n",
      "tick 145   kimg 580.0    time 3h 02m 36s   sec/tick 74.2    sec/kimg 18.56   maintenance 0.5    cpumem 2.95   gpumem 8.64   reserved 11.93  augment 0.391\n",
      "tick 146   kimg 584.0    time 3h 03m 51s   sec/tick 74.7    sec/kimg 18.69   maintenance 0.1    cpumem 2.95   gpumem 8.51   reserved 11.93  augment 0.398\n",
      "tick 147   kimg 588.0    time 3h 05m 06s   sec/tick 74.7    sec/kimg 18.69   maintenance 0.1    cpumem 2.95   gpumem 8.44   reserved 11.93  augment 0.406\n",
      "tick 148   kimg 592.0    time 3h 06m 21s   sec/tick 75.3    sec/kimg 18.82   maintenance 0.0    cpumem 2.95   gpumem 8.75   reserved 11.93  augment 0.411\n",
      "tick 149   kimg 596.0    time 3h 07m 36s   sec/tick 74.9    sec/kimg 18.71   maintenance 0.1    cpumem 2.95   gpumem 8.52   reserved 11.93  augment 0.412\n",
      "tick 150   kimg 600.0    time 3h 08m 50s   sec/tick 74.3    sec/kimg 18.57   maintenance 0.1    cpumem 2.95   gpumem 8.47   reserved 11.93  augment 0.411\n",
      "tick 151   kimg 604.0    time 3h 10m 17s   sec/tick 75.0    sec/kimg 18.74   maintenance 11.6   cpumem 2.91   gpumem 8.60   reserved 11.93  augment 0.413\n",
      "tick 154   kimg 616.0    time 3h 14m 02s   sec/tick 74.6    sec/kimg 18.65   maintenance 0.1    cpumem 2.91   gpumem 8.77   reserved 11.93  augment 0.402\n",
      "tick 155   kimg 620.0    time 3h 15m 16s   sec/tick 74.0    sec/kimg 18.51   maintenance 0.1    cpumem 2.91   gpumem 8.46   reserved 11.93  augment 0.405\n",
      "tick 156   kimg 624.0    time 3h 16m 31s   sec/tick 74.9    sec/kimg 18.74   maintenance 0.0    cpumem 2.91   gpumem 8.56   reserved 11.93  augment 0.404\n",
      "tick 157   kimg 628.0    time 3h 17m 45s   sec/tick 74.6    sec/kimg 18.65   maintenance 0.1    cpumem 2.91   gpumem 8.47   reserved 11.93  augment 0.405\n",
      "tick 158   kimg 632.0    time 3h 19m 00s   sec/tick 74.8    sec/kimg 18.70   maintenance 0.1    cpumem 2.91   gpumem 8.56   reserved 11.93  augment 0.410\n",
      "tick 159   kimg 636.0    time 3h 20m 15s   sec/tick 74.7    sec/kimg 18.68   maintenance 0.1    cpumem 2.91   gpumem 8.46   reserved 11.93  augment 0.403\n",
      "tick 160   kimg 640.0    time 3h 21m 30s   sec/tick 74.7    sec/kimg 18.67   maintenance 0.0    cpumem 2.91   gpumem 8.57   reserved 11.93  augment 0.398\n",
      "tick 161   kimg 644.0    time 3h 22m 44s   sec/tick 74.1    sec/kimg 18.52   maintenance 0.5    cpumem 2.91   gpumem 8.46   reserved 11.93  augment 0.396\n",
      "tick 162   kimg 648.0    time 3h 23m 59s   sec/tick 74.6    sec/kimg 18.66   maintenance 0.1    cpumem 2.91   gpumem 8.53   reserved 11.93  augment 0.397\n",
      "tick 163   kimg 652.0    time 3h 25m 14s   sec/tick 74.6    sec/kimg 18.65   maintenance 0.1    cpumem 2.91   gpumem 8.52   reserved 11.93  augment 0.398\n",
      "tick 164   kimg 656.0    time 3h 26m 29s   sec/tick 75.1    sec/kimg 18.76   maintenance 0.0    cpumem 2.91   gpumem 8.53   reserved 11.93  augment 0.397\n",
      "tick 165   kimg 660.0    time 3h 27m 44s   sec/tick 75.0    sec/kimg 18.76   maintenance 0.1    cpumem 2.91   gpumem 8.49   reserved 11.93  augment 0.399\n",
      "tick 166   kimg 664.0    time 3h 28m 58s   sec/tick 74.0    sec/kimg 18.51   maintenance 0.1    cpumem 2.91   gpumem 8.47   reserved 11.93  augment 0.397\n",
      "tick 167   kimg 668.0    time 3h 30m 13s   sec/tick 74.8    sec/kimg 18.70   maintenance 0.1    cpumem 2.91   gpumem 8.49   reserved 11.93  augment 0.395\n",
      "tick 168   kimg 672.0    time 3h 31m 28s   sec/tick 75.0    sec/kimg 18.75   maintenance 0.0    cpumem 2.91   gpumem 8.41   reserved 11.93  augment 0.397\n",
      "tick 169   kimg 676.0    time 3h 32m 42s   sec/tick 74.7    sec/kimg 18.66   maintenance 0.1    cpumem 2.91   gpumem 8.44   reserved 11.93  augment 0.399\n",
      "tick 170   kimg 680.0    time 3h 33m 57s   sec/tick 74.7    sec/kimg 18.69   maintenance 0.1    cpumem 2.91   gpumem 8.41   reserved 11.93  augment 0.400\n",
      "tick 171   kimg 684.0    time 3h 35m 11s   sec/tick 74.1    sec/kimg 18.52   maintenance 0.1    cpumem 2.91   gpumem 8.48   reserved 11.93  augment 0.403\n",
      "tick 172   kimg 688.0    time 3h 36m 27s   sec/tick 75.2    sec/kimg 18.79   maintenance 0.0    cpumem 2.91   gpumem 8.47   reserved 11.93  augment 0.402\n",
      "tick 173   kimg 692.0    time 3h 37m 41s   sec/tick 74.6    sec/kimg 18.65   maintenance 0.1    cpumem 2.91   gpumem 8.45   reserved 11.93  augment 0.405\n",
      "tick 174   kimg 696.0    time 3h 38m 56s   sec/tick 74.7    sec/kimg 18.67   maintenance 0.1    cpumem 2.91   gpumem 8.52   reserved 11.93  augment 0.404\n",
      "tick 175   kimg 700.0    time 3h 40m 11s   sec/tick 74.8    sec/kimg 18.69   maintenance 0.1    cpumem 2.91   gpumem 8.39   reserved 11.93  augment 0.407\n",
      "tick 176   kimg 704.0    time 3h 41m 25s   sec/tick 74.6    sec/kimg 18.66   maintenance 0.0    cpumem 2.91   gpumem 8.49   reserved 11.93  augment 0.404\n",
      "tick 177   kimg 708.0    time 3h 42m 40s   sec/tick 74.0    sec/kimg 18.51   maintenance 0.5    cpumem 2.91   gpumem 8.61   reserved 11.93  augment 0.406\n",
      "tick 178   kimg 712.0    time 3h 43m 55s   sec/tick 74.6    sec/kimg 18.65   maintenance 0.1    cpumem 2.91   gpumem 8.54   reserved 11.93  augment 0.406\n",
      "tick 179   kimg 716.0    time 3h 45m 10s   sec/tick 74.9    sec/kimg 18.72   maintenance 0.1    cpumem 2.91   gpumem 8.45   reserved 11.93  augment 0.407\n",
      "tick 180   kimg 720.0    time 3h 46m 25s   sec/tick 75.1    sec/kimg 18.77   maintenance 0.0    cpumem 2.91   gpumem 8.44   reserved 11.93  augment 0.408\n",
      "tick 181   kimg 724.0    time 3h 47m 39s   sec/tick 74.6    sec/kimg 18.65   maintenance 0.1    cpumem 2.91   gpumem 8.43   reserved 11.93  augment 0.412\n",
      "tick 182   kimg 728.0    time 3h 48m 53s   sec/tick 73.9    sec/kimg 18.47   maintenance 0.1    cpumem 2.91   gpumem 8.42   reserved 11.93  augment 0.408\n",
      "tick 183   kimg 732.0    time 3h 50m 08s   sec/tick 74.8    sec/kimg 18.71   maintenance 0.1    cpumem 2.91   gpumem 8.58   reserved 11.93  augment 0.405\n",
      "tick 184   kimg 736.0    time 3h 51m 23s   sec/tick 75.0    sec/kimg 18.75   maintenance 0.0    cpumem 2.91   gpumem 8.49   reserved 11.93  augment 0.409\n",
      "tick 185   kimg 740.0    time 3h 52m 38s   sec/tick 74.8    sec/kimg 18.70   maintenance 0.1    cpumem 2.91   gpumem 8.56   reserved 11.93  augment 0.414\n",
      "tick 186   kimg 744.0    time 3h 53m 53s   sec/tick 74.7    sec/kimg 18.66   maintenance 0.1    cpumem 2.91   gpumem 8.49   reserved 11.93  augment 0.411\n",
      "tick 187   kimg 748.0    time 3h 55m 07s   sec/tick 74.3    sec/kimg 18.58   maintenance 0.1    cpumem 2.91   gpumem 8.72   reserved 11.93  augment 0.410\n",
      "tick 188   kimg 752.0    time 3h 56m 22s   sec/tick 75.0    sec/kimg 18.75   maintenance 0.0    cpumem 2.91   gpumem 8.50   reserved 11.93  augment 0.403\n",
      "tick 189   kimg 756.0    time 3h 57m 37s   sec/tick 74.5    sec/kimg 18.62   maintenance 0.1    cpumem 2.91   gpumem 8.59   reserved 11.93  augment 0.407\n",
      "tick 190   kimg 760.0    time 3h 58m 51s   sec/tick 74.5    sec/kimg 18.62   maintenance 0.1    cpumem 2.91   gpumem 8.53   reserved 11.93  augment 0.407\n",
      "tick 191   kimg 764.0    time 4h 00m 06s   sec/tick 74.6    sec/kimg 18.64   maintenance 0.1    cpumem 2.91   gpumem 8.59   reserved 11.93  augment 0.411\n",
      "tick 192   kimg 768.0    time 4h 01m 20s   sec/tick 74.5    sec/kimg 18.62   maintenance 0.0    cpumem 2.91   gpumem 8.54   reserved 11.93  augment 0.417\n",
      "tick 193   kimg 772.0    time 4h 02m 35s   sec/tick 74.1    sec/kimg 18.51   maintenance 0.6    cpumem 2.91   gpumem 8.64   reserved 11.93  augment 0.422\n",
      "tick 194   kimg 776.0    time 4h 03m 50s   sec/tick 74.7    sec/kimg 18.67   maintenance 0.1    cpumem 2.91   gpumem 8.65   reserved 11.93  augment 0.420\n",
      "tick 195   kimg 780.0    time 4h 05m 05s   sec/tick 74.8    sec/kimg 18.70   maintenance 0.1    cpumem 2.91   gpumem 8.56   reserved 11.93  augment 0.416\n",
      "tick 196   kimg 784.0    time 4h 06m 20s   sec/tick 75.1    sec/kimg 18.78   maintenance 0.0    cpumem 2.91   gpumem 8.63   reserved 11.93  augment 0.418\n",
      "tick 197   kimg 788.0    time 4h 07m 34s   sec/tick 74.6    sec/kimg 18.65   maintenance 0.1    cpumem 2.91   gpumem 8.64   reserved 11.93  augment 0.419\n",
      "tick 198   kimg 792.0    time 4h 08m 48s   sec/tick 74.0    sec/kimg 18.51   maintenance 0.1    cpumem 2.91   gpumem 8.46   reserved 11.93  augment 0.415\n",
      "tick 199   kimg 796.0    time 4h 10m 03s   sec/tick 74.7    sec/kimg 18.67   maintenance 0.1    cpumem 2.91   gpumem 8.49   reserved 11.93  augment 0.413\n",
      "tick 200   kimg 800.0    time 4h 11m 18s   sec/tick 75.0    sec/kimg 18.76   maintenance 0.0    cpumem 2.91   gpumem 8.42   reserved 11.93  augment 0.415\n",
      "tick 201   kimg 804.0    time 4h 12m 44s   sec/tick 74.8    sec/kimg 18.69   maintenance 11.4   cpumem 2.91   gpumem 8.46   reserved 11.93  augment 0.417\n",
      "tick 202   kimg 808.0    time 4h 13m 59s   sec/tick 74.9    sec/kimg 18.72   maintenance 0.1    cpumem 2.91   gpumem 8.47   reserved 11.93  augment 0.418\n",
      "tick 203   kimg 812.0    time 4h 15m 14s   sec/tick 74.2    sec/kimg 18.55   maintenance 0.1    cpumem 2.91   gpumem 8.45   reserved 11.93  augment 0.415\n",
      "tick 204   kimg 816.0    time 4h 16m 29s   sec/tick 75.7    sec/kimg 18.92   maintenance 0.0    cpumem 2.91   gpumem 8.59   reserved 11.93  augment 0.417\n",
      "tick 207   kimg 828.0    time 4h 20m 14s   sec/tick 74.6    sec/kimg 18.66   maintenance 0.0    cpumem 2.91   gpumem 8.51   reserved 11.93  augment 0.423\n",
      "tick 208   kimg 832.0    time 4h 21m 29s   sec/tick 74.6    sec/kimg 18.64   maintenance 0.0    cpumem 2.91   gpumem 8.46   reserved 11.93  augment 0.422\n",
      "tick 209   kimg 836.0    time 4h 22m 43s   sec/tick 74.1    sec/kimg 18.51   maintenance 0.6    cpumem 2.91   gpumem 8.60   reserved 11.93  augment 0.425\n",
      "tick 210   kimg 840.0    time 4h 23m 58s   sec/tick 74.7    sec/kimg 18.66   maintenance 0.1    cpumem 2.91   gpumem 8.61   reserved 11.93  augment 0.428\n",
      "tick 211   kimg 844.0    time 4h 25m 13s   sec/tick 74.8    sec/kimg 18.69   maintenance 0.1    cpumem 2.91   gpumem 8.55   reserved 11.93  augment 0.432\n",
      "tick 212   kimg 848.0    time 4h 26m 28s   sec/tick 75.0    sec/kimg 18.76   maintenance 0.0    cpumem 2.91   gpumem 8.58   reserved 11.93  augment 0.433\n",
      "tick 213   kimg 852.0    time 4h 27m 43s   sec/tick 74.7    sec/kimg 18.67   maintenance 0.1    cpumem 2.91   gpumem 8.56   reserved 11.93  augment 0.433\n",
      "tick 214   kimg 856.0    time 4h 28m 57s   sec/tick 74.2    sec/kimg 18.54   maintenance 0.1    cpumem 2.91   gpumem 8.49   reserved 11.93  augment 0.437\n",
      "tick 215   kimg 860.0    time 4h 30m 12s   sec/tick 75.3    sec/kimg 18.82   maintenance 0.1    cpumem 2.91   gpumem 8.50   reserved 11.93  augment 0.439\n",
      "tick 216   kimg 864.0    time 4h 31m 27s   sec/tick 75.2    sec/kimg 18.79   maintenance 0.0    cpumem 2.91   gpumem 8.51   reserved 11.93  augment 0.442\n",
      "tick 217   kimg 868.0    time 4h 32m 42s   sec/tick 74.7    sec/kimg 18.67   maintenance 0.1    cpumem 2.91   gpumem 8.58   reserved 11.93  augment 0.444\n",
      "tick 218   kimg 872.0    time 4h 33m 57s   sec/tick 75.0    sec/kimg 18.75   maintenance 0.1    cpumem 2.91   gpumem 8.59   reserved 11.93  augment 0.440\n",
      "tick 219   kimg 876.0    time 4h 35m 11s   sec/tick 74.2    sec/kimg 18.55   maintenance 0.1    cpumem 2.91   gpumem 8.48   reserved 11.93  augment 0.438\n",
      "tick 220   kimg 880.0    time 4h 36m 27s   sec/tick 75.6    sec/kimg 18.90   maintenance 0.0    cpumem 2.91   gpumem 8.45   reserved 11.93  augment 0.439\n",
      "tick 221   kimg 884.0    time 4h 37m 42s   sec/tick 75.0    sec/kimg 18.75   maintenance 0.1    cpumem 2.91   gpumem 8.57   reserved 11.93  augment 0.445\n",
      "tick 222   kimg 888.0    time 4h 38m 57s   sec/tick 75.1    sec/kimg 18.78   maintenance 0.0    cpumem 2.91   gpumem 8.49   reserved 11.93  augment 0.447\n",
      "tick 223   kimg 892.0    time 4h 40m 12s   sec/tick 74.9    sec/kimg 18.73   maintenance 0.1    cpumem 2.91   gpumem 8.57   reserved 11.93  augment 0.445\n",
      "tick 224   kimg 896.0    time 4h 41m 27s   sec/tick 74.7    sec/kimg 18.68   maintenance 0.0    cpumem 2.91   gpumem 8.57   reserved 11.93  augment 0.446\n",
      "tick 225   kimg 900.0    time 4h 42m 42s   sec/tick 74.2    sec/kimg 18.54   maintenance 0.6    cpumem 2.91   gpumem 8.42   reserved 11.93  augment 0.449\n",
      "tick 226   kimg 904.0    time 4h 43m 56s   sec/tick 74.7    sec/kimg 18.68   maintenance 0.1    cpumem 2.91   gpumem 8.54   reserved 11.93  augment 0.448\n",
      "tick 227   kimg 908.0    time 4h 45m 11s   sec/tick 74.8    sec/kimg 18.69   maintenance 0.1    cpumem 2.91   gpumem 8.57   reserved 11.93  augment 0.448\n",
      "tick 228   kimg 912.0    time 4h 46m 26s   sec/tick 75.2    sec/kimg 18.80   maintenance 0.0    cpumem 2.91   gpumem 8.50   reserved 11.93  augment 0.452\n",
      "tick 229   kimg 916.0    time 4h 47m 41s   sec/tick 74.9    sec/kimg 18.72   maintenance 0.1    cpumem 2.91   gpumem 8.52   reserved 11.93  augment 0.453\n",
      "tick 230   kimg 920.0    time 4h 48m 56s   sec/tick 74.2    sec/kimg 18.54   maintenance 0.1    cpumem 2.91   gpumem 8.53   reserved 11.93  augment 0.457\n",
      "tick 231   kimg 924.0    time 4h 50m 11s   sec/tick 74.8    sec/kimg 18.71   maintenance 0.1    cpumem 2.91   gpumem 8.47   reserved 11.93  augment 0.459\n",
      "tick 232   kimg 928.0    time 4h 51m 26s   sec/tick 75.1    sec/kimg 18.79   maintenance 0.0    cpumem 2.91   gpumem 8.65   reserved 11.93  augment 0.461\n",
      "tick 233   kimg 932.0    time 4h 52m 41s   sec/tick 74.8    sec/kimg 18.69   maintenance 0.1    cpumem 2.91   gpumem 8.55   reserved 11.93  augment 0.465\n",
      "tick 234   kimg 936.0    time 4h 53m 55s   sec/tick 74.7    sec/kimg 18.67   maintenance 0.1    cpumem 2.91   gpumem 8.59   reserved 11.93  augment 0.465\n",
      "tick 235   kimg 940.0    time 4h 55m 10s   sec/tick 74.3    sec/kimg 18.58   maintenance 0.1    cpumem 2.91   gpumem 8.63   reserved 11.93  augment 0.465\n",
      "tick 236   kimg 944.0    time 4h 56m 25s   sec/tick 75.1    sec/kimg 18.78   maintenance 0.0    cpumem 2.91   gpumem 8.55   reserved 11.93  augment 0.465\n",
      "tick 237   kimg 948.0    time 4h 57m 40s   sec/tick 74.7    sec/kimg 18.69   maintenance 0.1    cpumem 2.91   gpumem 8.64   reserved 11.93  augment 0.468\n",
      "tick 238   kimg 952.0    time 4h 58m 55s   sec/tick 75.0    sec/kimg 18.75   maintenance 0.1    cpumem 2.91   gpumem 8.66   reserved 11.94  augment 0.467\n",
      "tick 239   kimg 956.0    time 5h 00m 10s   sec/tick 75.2    sec/kimg 18.79   maintenance 0.1    cpumem 2.91   gpumem 8.75   reserved 11.94  augment 0.465\n",
      "tick 240   kimg 960.0    time 5h 01m 25s   sec/tick 74.8    sec/kimg 18.70   maintenance 0.0    cpumem 2.91   gpumem 8.49   reserved 11.94  augment 0.464\n",
      "tick 241   kimg 964.0    time 5h 02m 39s   sec/tick 74.1    sec/kimg 18.51   maintenance 0.5    cpumem 2.91   gpumem 8.59   reserved 11.94  augment 0.468\n",
      "tick 242   kimg 968.0    time 5h 03m 54s   sec/tick 74.9    sec/kimg 18.73   maintenance 0.1    cpumem 2.91   gpumem 8.54   reserved 11.94  augment 0.468\n",
      "tick 243   kimg 972.0    time 5h 05m 09s   sec/tick 74.9    sec/kimg 18.72   maintenance 0.1    cpumem 2.91   gpumem 8.50   reserved 11.94  augment 0.468\n",
      "tick 244   kimg 976.0    time 5h 06m 24s   sec/tick 75.1    sec/kimg 18.79   maintenance 0.0    cpumem 2.91   gpumem 8.54   reserved 11.94  augment 0.469\n",
      "tick 245   kimg 980.0    time 5h 07m 39s   sec/tick 74.7    sec/kimg 18.68   maintenance 0.1    cpumem 2.91   gpumem 8.53   reserved 11.94  augment 0.471\n",
      "tick 246   kimg 984.0    time 5h 08m 53s   sec/tick 74.3    sec/kimg 18.56   maintenance 0.1    cpumem 2.91   gpumem 8.65   reserved 11.94  augment 0.474\n",
      "tick 247   kimg 988.0    time 5h 10m 08s   sec/tick 74.7    sec/kimg 18.68   maintenance 0.1    cpumem 2.91   gpumem 8.62   reserved 11.94  augment 0.478\n",
      "tick 248   kimg 992.0    time 5h 11m 24s   sec/tick 75.5    sec/kimg 18.87   maintenance 0.0    cpumem 2.91   gpumem 8.46   reserved 11.94  augment 0.478\n",
      "tick 249   kimg 996.0    time 5h 12m 39s   sec/tick 74.9    sec/kimg 18.73   maintenance 0.1    cpumem 2.91   gpumem 8.79   reserved 11.94  augment 0.476\n",
      "tick 250   kimg 1000.0   time 5h 13m 53s   sec/tick 74.2    sec/kimg 18.70   maintenance 0.1    cpumem 2.91   gpumem 8.54   reserved 11.94  augment 0.481\n",
      "\n",
      "Exiting...\n"
     ]
    }
   ],
   "source": [
    "# Train model from scratch\n",
    "!python stylegan3/train.py \\\n",
    "  --outdir=data-synthesis-vfss/training-runs \\\n",
    "  --data=data-synthesis-vfss/data/images/max_constriction.zip \\\n",
    "  --cfg=stylegan2 \\ \n",
    "  --gpus=2 \\\n",
    "  --batch=32 \\\n",
    "  --gamma=0.8192 \\\n",
    "  --map-depth=2 \\\n",
    "  --glr=0.0025 \\\n",
    "  --dlr=0.0025 \\\n",
    "  --cbase=16384 \\\n",
    "  --kimg=1000 \\\n",
    "  --metrics=none \\\n",
    "  # --tick=1 \\\n",
    "  --snap=5"
   ]
  },
  {
   "cell_type": "code",
   "execution_count": null,
   "metadata": {},
   "outputs": [],
   "source": [
    "# Resume model training\n",
    "\n",
    "# !python stylegan3/train.py \\\n",
    "#   --resume=data-synthesis-vfss/training-runs/00000-stylegan2-max_constriction-gpus2-batch32-gamma0.8192/network-snapshot-001000.pkl \\\n",
    "#   --outdir=data-synthesis-vfss/training-runs \\\n",
    "#   --data=data-synthesis-vfss/data/images/max_constriction.zip \\\n",
    "#   --cfg=stylegan2 \\\n",
    "#   --gpus=2 \\\n",
    "#   --batch=32 \\\n",
    "#   --gamma=0.8192 \\\n",
    "#   --map-depth=2 \\\n",
    "#   --glr=0.0025 \\\n",
    "#   --dlr=0.0025 \\\n",
    "#   --cbase=16384 \\\n",
    "#   --kimg=4000 \\\n",
    "#   --metrics=none \\\n",
    "#   # --tick=1 \\\n",
    "#   --snap=5"
   ]
  },
  {
   "cell_type": "markdown",
   "metadata": {
    "id": "YKbdO_LNfGcM"
   },
   "source": [
    "## Generate instances"
   ]
  },
  {
   "cell_type": "code",
   "execution_count": null,
   "metadata": {
    "id": "0pOxxkiGfGcN"
   },
   "outputs": [
    {
     "name": "stdout",
     "output_type": "stream",
     "text": [
      "Loading networks from \"data-synthesis-vfss/training-runs/00000-stylegan2-max_constriction-gpus2-batch32-gamma0.8192/network-snapshot-001000.pkl\"...\n",
      "Generating image for seed 85 (0/4) ...\n",
      "Setting up PyTorch plugin \"bias_act_plugin\"... /usr/local/lib/python3.10/dist-packages/torch/utils/cpp_extension.py:1964: UserWarning: TORCH_CUDA_ARCH_LIST is not set, all archs for visible cards are included for compilation. \n",
      "If this is not desired, please set os.environ['TORCH_CUDA_ARCH_LIST'].\n",
      "  warnings.warn(\n",
      "Done.\n",
      "Setting up PyTorch plugin \"upfirdn2d_plugin\"... /usr/local/lib/python3.10/dist-packages/torch/utils/cpp_extension.py:1964: UserWarning: TORCH_CUDA_ARCH_LIST is not set, all archs for visible cards are included for compilation. \n",
      "If this is not desired, please set os.environ['TORCH_CUDA_ARCH_LIST'].\n",
      "  warnings.warn(\n",
      "Done.\n",
      "Generating image for seed 265 (1/4) ...\n",
      "Generating image for seed 297 (2/4) ...\n",
      "Generating image for seed 849 (3/4) ...\n"
     ]
    }
   ],
   "source": [
    "# Generate synthetic VFSS images\n",
    "!python  stylegan3/gen_images.py \\\n",
    "    --outdir=out \\\n",
    "    --trunc=1 \\\n",
    "    --seeds=85,265,297,849 \\\n",
    "    --network=data-synthesis-vfss/training-runs/00000-stylegan2-max_constriction-gpus2-batch32-gamma0.8192/network-snapshot-001000.pkl\n",
    "    # --network=https://nvlabs-fi-cdn.nvidia.com/stylegan2-ada-pytorch/pretrained/metfaces.pkl"
   ]
  },
  {
   "cell_type": "code",
   "execution_count": null,
   "metadata": {
    "id": "zj5zFA1jfGcN"
   },
   "outputs": [],
   "source": [
    "import os\n",
    "import matplotlib.pyplot as plt\n",
    "\n",
    "# display foler's images in 2x2\n",
    "def plot_images(img_dir, top=2):\n",
    "    all_img_dirs = os.listdir(img_dir)\n",
    "    img_files = [os.path.join(img_dir, file) for file in all_img_dirs]\n",
    "\n",
    "    plt.figure(figsize=(10, 10))\n",
    "\n",
    "    for idx, img_path in enumerate(img_files):\n",
    "        plt.subplot(2, 2, idx+1)\n",
    "\n",
    "        img = plt.imread(img_path)\n",
    "        plt.tight_layout()\n",
    "        plt.imshow(img, cmap='gray')\n",
    "        plt.axis('off')"
   ]
  },
  {
   "cell_type": "code",
   "execution_count": null,
   "metadata": {
    "id": "KGy8ueEifGcN"
   },
   "outputs": [],
   "source": [
    "# display images in output folder\n",
    "plot_images('./out')"
   ]
  },
  {
   "cell_type": "code",
   "execution_count": null,
   "metadata": {
    "id": "i6XQTh4cfGcN"
   },
   "outputs": [],
   "source": [
    "plot_images('./out')"
   ]
  },
  {
   "cell_type": "code",
   "execution_count": null,
   "metadata": {
    "id": "rQQ1SZ3kfGcN"
   },
   "outputs": [],
   "source": [
    "!rm out/*"
   ]
  },
  {
   "cell_type": "code",
   "execution_count": null,
   "metadata": {
    "id": "WjRZVUr1fGcN"
   },
   "outputs": [],
   "source": [
    "# display images in a row\n",
    "def plot_pics(img_files):\n",
    "    plt.figure(figsize=(10, 10))\n",
    "\n",
    "    for i in range(len(img_files)):\n",
    "        plt.subplot(1, len(img_files), i+1)\n",
    "\n",
    "        img = plt.imread(img_files[i])\n",
    "        plt.tight_layout()\n",
    "        plt.imshow(img, cmap='gray')\n",
    "        plt.axis('off')"
   ]
  },
  {
   "cell_type": "code",
   "execution_count": null,
   "metadata": {
    "id": "XJ9GKONhfGcN"
   },
   "outputs": [],
   "source": [
    "files = ['out/100-100.png', 'out/1789-1789.png', 'out/100-1789.png']\n",
    "plot_pics(files)"
   ]
  },
  {
   "cell_type": "markdown",
   "metadata": {
    "id": "jRL56wNBfGcN"
   },
   "source": [
    "## Projecting images to latent space\n",
    "\n",
    "To find the matching latent vector for a given image file, run:\n",
    "\n",
    "    python projector.py --outdir=out --target=~/mytargetimg.png \\\n",
    "    --network=https://nvlabs-fi-cdn.nvidia.com/stylegan2-ada-pytorch/pretrained/ffhq.pkl\n",
    "    \n",
    "For optimal results, the target image should be cropped and aligned similar to the FFHQ dataset. The above command saves the projection target out/target.png, result out/proj.png, latent vector out/projected_w.npz, and progression video out/proj.mp4. You can render the resulting latent vector by specifying --projected_w for generate.py:\n",
    "    \n",
    "    python generate.py --outdir=out --projected_w=out/projected_w.npz \\\n",
    "    --network=https://nvlabs-fi-cdn.nvidia.com/stylegan2-ada-pytorch/pretrained/ffhq.pkl    \n",
    "\n",
    "Reference: [rkuo2000](https://www.kaggle.com/code/rkuo2000/stylegan2-ada)   "
   ]
  },
  {
   "cell_type": "markdown",
   "metadata": {
    "id": "Qf-BLALLfGcO"
   },
   "source": [
    "### download a picture"
   ]
  },
  {
   "cell_type": "code",
   "execution_count": null,
   "metadata": {
    "id": "5xJd7vHMfGcO"
   },
   "outputs": [],
   "source": [
    "!mkdir -p raw\n",
    "!wget https://upload.wikimedia.org/wikipedia/commons/6/6d/Shinz%C5%8D_Abe_Official.jpg -O raw/example.jpg"
   ]
  },
  {
   "cell_type": "markdown",
   "metadata": {
    "id": "4AhmznVqfGcO"
   },
   "source": [
    "### face alignment"
   ]
  },
  {
   "cell_type": "code",
   "execution_count": null,
   "metadata": {
    "id": "nAIeY3dJfGcO"
   },
   "outputs": [],
   "source": [
    "# face alignment\n",
    "!python align_images.py raw aligned"
   ]
  },
  {
   "cell_type": "code",
   "execution_count": null,
   "metadata": {
    "id": "qqhwEDC_fGcO"
   },
   "outputs": [],
   "source": [
    "!ls aligned"
   ]
  },
  {
   "cell_type": "code",
   "execution_count": null,
   "metadata": {
    "id": "kHwug6JYfGcO"
   },
   "outputs": [],
   "source": [
    "files = ['raw/example.jpg', 'aligned/example_01.png']\n",
    "plot_pics(files)"
   ]
  },
  {
   "cell_type": "markdown",
   "metadata": {
    "id": "pVJ4M9ZmfGcO"
   },
   "source": [
    "## Projector"
   ]
  },
  {
   "cell_type": "code",
   "execution_count": null,
   "metadata": {
    "id": "EoO58kumfGcO"
   },
   "outputs": [],
   "source": [
    "# projector\n",
    "!python projector.py --outdir=out --target=aligned/example_01.png \\\n",
    "    --network=https://nvlabs-fi-cdn.nvidia.com/stylegan2-ada-pytorch/pretrained/ffhq.pkl"
   ]
  },
  {
   "cell_type": "code",
   "execution_count": null,
   "metadata": {
    "id": "2QTGocJEfGcO"
   },
   "outputs": [],
   "source": [
    "from IPython.display import Video\n",
    "Video('out/proj.mp4')"
   ]
  },
  {
   "cell_type": "code",
   "execution_count": null,
   "metadata": {
    "execution": {
     "iopub.execute_input": "2022-11-15T18:20:55.10733Z",
     "iopub.status.busy": "2022-11-15T18:20:55.106796Z",
     "iopub.status.idle": "2022-11-15T18:21:27.893909Z",
     "shell.execute_reply": "2022-11-15T18:21:27.893086Z",
     "shell.execute_reply.started": "2022-11-15T18:20:55.107294Z"
    },
    "id": "3DDLZnb0fGcO"
   },
   "outputs": [],
   "source": [
    "%pip uninstall jax jaxlib -y\n",
    "%pip install \"jax[cuda11_cudnn805]==0.3.10\" -f https://storage.googleapis.com/jax-releases/jax_cuda_releases.html\n",
    "# !git clone https://github.com/NVlabs/stylegan2-ada-pytorch.git\n",
    "%pip install ninja"
   ]
  },
  {
   "cell_type": "code",
   "execution_count": null,
   "metadata": {
    "id": "cwHxc-91fGcO"
   },
   "outputs": [],
   "source": [
    "import os\n",
    "\n",
    "# Modify these to suit your needs\n",
    "EXPERIMENTS = \"./experiments\"\n",
    "NETWORK = \"network-snapshot-000120.pkl\"\n",
    "RESUME = os.path.join(EXPERIMENTS, \\\n",
    "                \"00003-mainplans1-auto2\", NETWORK)\n",
    "DATA = \"../input/mainplans/mainplans1\"\n",
    "SNAP = 35\n",
    "\n",
    "# Build the command and run it\n",
    "# cmd = f\"python3 ./stylegan2-ada-pytorch/train.py \"\\\n",
    "#   f\"--snap {SNAP} --resume {RESUME} --mirror=1 --aug=noaug --outdir {EXPERIMENTS} --data {DATA} --gpus=2\"\n",
    "\n",
    "import os\n",
    "os.system(f\"python3 ./stylegan2-ada-pytorch/train.py \"\\\n",
    "  f\"--snap {SNAP} --resume {RESUME} --mirror=1 --aug=noaug --outdir {EXPERIMENTS} --data {DATA} --gpus=2\")\n",
    "\n",
    "# !{cmd}"
   ]
  }
 ],
 "metadata": {
  "accelerator": "TPU",
  "colab": {
   "gpuType": "V28",
   "provenance": []
  },
  "kaggle": {
   "accelerator": "none",
   "dataSources": [
    {
     "datasetId": 2637835,
     "sourceId": 4513430,
     "sourceType": "datasetVersion"
    }
   ],
   "dockerImageVersionId": 30123,
   "isGpuEnabled": false,
   "isInternetEnabled": true,
   "language": "python",
   "sourceType": "notebook"
  },
  "kernelspec": {
   "display_name": "deep-learning",
   "language": "python",
   "name": "python3"
  },
  "language_info": {
   "codemirror_mode": {
    "name": "ipython",
    "version": 3
   },
   "file_extension": ".py",
   "mimetype": "text/x-python",
   "name": "python",
   "nbconvert_exporter": "python",
   "pygments_lexer": "ipython3",
   "version": "3.12.2"
  }
 },
 "nbformat": 4,
 "nbformat_minor": 4
}
