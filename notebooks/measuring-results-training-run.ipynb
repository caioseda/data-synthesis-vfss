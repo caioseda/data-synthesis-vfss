{
 "cells": [
  {
   "cell_type": "code",
   "execution_count": 1,
   "id": "823da129",
   "metadata": {},
   "outputs": [],
   "source": [
    "import json\n",
    "import pandas as pd\n",
    "import plotly.graph_objects as go\n",
    "from plotly.subplots import make_subplots\n",
    "\n",
    "jsonl_paths = [\n",
    "    \"../data/training_runs/00004-stylegan2-00000-all-frames-512-gpus2-batch32-gamma1.6384/stats.jsonl\",\n",
    "    \"../data/training_runs/00005-stylegan2-00000-all-frames-512-gpus2-batch32-gamma1.6384/stats.jsonl\"\n",
    "]\n",
    "\n",
    "lines = []\n",
    "for jsonl_path in jsonl_paths:\n",
    "    if not jsonl_path.endswith(\".jsonl\"):\n",
    "        raise ValueError(f\"Expected a .jsonl file, got: {jsonl_path}\")\n",
    "\n",
    "    with open(jsonl_path, \"r\") as f:\n",
    "        for line in f:\n",
    "            try:\n",
    "                entry = json.loads(line.strip())\n",
    "                if isinstance(entry, dict):\n",
    "                    lines.append((entry, jsonl_path))\n",
    "            except json.JSONDecodeError as e:\n",
    "                print(f\"Error decoding JSON from line: {line.strip()}\\nError: {e}\")\n",
    "\n",
    "                \n",
    "\n",
    "data_records = []\n",
    "for entry, json_path in lines:\n",
    "    tick = entry.get(\"Progress/tick\", {}).get(\"mean\", None)\n",
    "    kimg = entry.get(\"Progress/kimg\", {}).get(\"mean\", None)\n",
    "    if tick is None:\n",
    "        continue\n",
    "    for metric, stats in entry.items():\n",
    "        if isinstance(stats, dict):\n",
    "            data_records.append({\n",
    "                \"tick\": tick,\n",
    "                \"kimg\": kimg,\n",
    "                \"metric\": metric,\n",
    "                \"mean\": stats.get(\"mean\", None),\n",
    "                \"std\": stats.get(\"std\", None),\n",
    "                \"num\": stats.get(\"num\", None),\n",
    "                \"json_path\": json_path\n",
    "            })\n",
    "\n",
    "df = pd.DataFrame(data_records)\n"
   ]
  },
  {
   "cell_type": "code",
   "execution_count": 2,
   "id": "34ccb849",
   "metadata": {},
   "outputs": [],
   "source": [
    "df['kimg']= df['kimg'].astype(int)\n",
    "df['training_order'] = df['json_path'].apply(lambda x: jsonl_paths.index(x))\n",
    "df.loc[df.training_order == 1, 'kimg'] += df[df.training_order == 0].kimg.max()"
   ]
  },
  {
   "cell_type": "code",
   "execution_count": 3,
   "id": "bfbf28c8",
   "metadata": {},
   "outputs": [],
   "source": [
    "df_pivot = df.pivot_table(index=\"kimg\", columns=\"metric\", values=\"mean\")"
   ]
  },
  {
   "cell_type": "code",
   "execution_count": 4,
   "id": "fbe951ae",
   "metadata": {},
   "outputs": [
    {
     "data": {
      "application/vnd.plotly.v1+json": {
       "config": {
        "plotlyServerURL": "https://plot.ly"
       },
       "data": [
        {
         "mode": "lines",
         "name": "Generator Loss",
         "type": "scatter",
         "x": {
          "bdata": "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",
          "dtype": "i2"
         },
         "y": {
          "bdata": "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",
          "dtype": "f8"
         }
        },
        {
         "mode": "lines",
         "name": "Discriminator Loss",
         "type": "scatter",
         "x": {
          "bdata": "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",
          "dtype": "i2"
         },
         "y": {
          "bdata": "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",
          "dtype": "f8"
         }
        }
       ],
       "layout": {
        "legend": {
         "x": 0,
         "y": 1
        },
        "template": {
         "data": {
          "bar": [
           {
            "error_x": {
             "color": "#2a3f5f"
            },
            "error_y": {
             "color": "#2a3f5f"
            },
            "marker": {
             "line": {
              "color": "white",
              "width": 0.5
             },
             "pattern": {
              "fillmode": "overlay",
              "size": 10,
              "solidity": 0.2
             }
            },
            "type": "bar"
           }
          ],
          "barpolar": [
           {
            "marker": {
             "line": {
              "color": "white",
              "width": 0.5
             },
             "pattern": {
              "fillmode": "overlay",
              "size": 10,
              "solidity": 0.2
             }
            },
            "type": "barpolar"
           }
          ],
          "carpet": [
           {
            "aaxis": {
             "endlinecolor": "#2a3f5f",
             "gridcolor": "#C8D4E3",
             "linecolor": "#C8D4E3",
             "minorgridcolor": "#C8D4E3",
             "startlinecolor": "#2a3f5f"
            },
            "baxis": {
             "endlinecolor": "#2a3f5f",
             "gridcolor": "#C8D4E3",
             "linecolor": "#C8D4E3",
             "minorgridcolor": "#C8D4E3",
             "startlinecolor": "#2a3f5f"
            },
            "type": "carpet"
           }
          ],
          "choropleth": [
           {
            "colorbar": {
             "outlinewidth": 0,
             "ticks": ""
            },
            "type": "choropleth"
           }
          ],
          "contour": [
           {
            "colorbar": {
             "outlinewidth": 0,
             "ticks": ""
            },
            "colorscale": [
             [
              0,
              "#0d0887"
             ],
             [
              0.1111111111111111,
              "#46039f"
             ],
             [
              0.2222222222222222,
              "#7201a8"
             ],
             [
              0.3333333333333333,
              "#9c179e"
             ],
             [
              0.4444444444444444,
              "#bd3786"
             ],
             [
              0.5555555555555556,
              "#d8576b"
             ],
             [
              0.6666666666666666,
              "#ed7953"
             ],
             [
              0.7777777777777778,
              "#fb9f3a"
             ],
             [
              0.8888888888888888,
              "#fdca26"
             ],
             [
              1,
              "#f0f921"
             ]
            ],
            "type": "contour"
           }
          ],
          "contourcarpet": [
           {
            "colorbar": {
             "outlinewidth": 0,
             "ticks": ""
            },
            "type": "contourcarpet"
           }
          ],
          "heatmap": [
           {
            "colorbar": {
             "outlinewidth": 0,
             "ticks": ""
            },
            "colorscale": [
             [
              0,
              "#0d0887"
             ],
             [
              0.1111111111111111,
              "#46039f"
             ],
             [
              0.2222222222222222,
              "#7201a8"
             ],
             [
              0.3333333333333333,
              "#9c179e"
             ],
             [
              0.4444444444444444,
              "#bd3786"
             ],
             [
              0.5555555555555556,
              "#d8576b"
             ],
             [
              0.6666666666666666,
              "#ed7953"
             ],
             [
              0.7777777777777778,
              "#fb9f3a"
             ],
             [
              0.8888888888888888,
              "#fdca26"
             ],
             [
              1,
              "#f0f921"
             ]
            ],
            "type": "heatmap"
           }
          ],
          "histogram": [
           {
            "marker": {
             "pattern": {
              "fillmode": "overlay",
              "size": 10,
              "solidity": 0.2
             }
            },
            "type": "histogram"
           }
          ],
          "histogram2d": [
           {
            "colorbar": {
             "outlinewidth": 0,
             "ticks": ""
            },
            "colorscale": [
             [
              0,
              "#0d0887"
             ],
             [
              0.1111111111111111,
              "#46039f"
             ],
             [
              0.2222222222222222,
              "#7201a8"
             ],
             [
              0.3333333333333333,
              "#9c179e"
             ],
             [
              0.4444444444444444,
              "#bd3786"
             ],
             [
              0.5555555555555556,
              "#d8576b"
             ],
             [
              0.6666666666666666,
              "#ed7953"
             ],
             [
              0.7777777777777778,
              "#fb9f3a"
             ],
             [
              0.8888888888888888,
              "#fdca26"
             ],
             [
              1,
              "#f0f921"
             ]
            ],
            "type": "histogram2d"
           }
          ],
          "histogram2dcontour": [
           {
            "colorbar": {
             "outlinewidth": 0,
             "ticks": ""
            },
            "colorscale": [
             [
              0,
              "#0d0887"
             ],
             [
              0.1111111111111111,
              "#46039f"
             ],
             [
              0.2222222222222222,
              "#7201a8"
             ],
             [
              0.3333333333333333,
              "#9c179e"
             ],
             [
              0.4444444444444444,
              "#bd3786"
             ],
             [
              0.5555555555555556,
              "#d8576b"
             ],
             [
              0.6666666666666666,
              "#ed7953"
             ],
             [
              0.7777777777777778,
              "#fb9f3a"
             ],
             [
              0.8888888888888888,
              "#fdca26"
             ],
             [
              1,
              "#f0f921"
             ]
            ],
            "type": "histogram2dcontour"
           }
          ],
          "mesh3d": [
           {
            "colorbar": {
             "outlinewidth": 0,
             "ticks": ""
            },
            "type": "mesh3d"
           }
          ],
          "parcoords": [
           {
            "line": {
             "colorbar": {
              "outlinewidth": 0,
              "ticks": ""
             }
            },
            "type": "parcoords"
           }
          ],
          "pie": [
           {
            "automargin": true,
            "type": "pie"
           }
          ],
          "scatter": [
           {
            "fillpattern": {
             "fillmode": "overlay",
             "size": 10,
             "solidity": 0.2
            },
            "type": "scatter"
           }
          ],
          "scatter3d": [
           {
            "line": {
             "colorbar": {
              "outlinewidth": 0,
              "ticks": ""
             }
            },
            "marker": {
             "colorbar": {
              "outlinewidth": 0,
              "ticks": ""
             }
            },
            "type": "scatter3d"
           }
          ],
          "scattercarpet": [
           {
            "marker": {
             "colorbar": {
              "outlinewidth": 0,
              "ticks": ""
             }
            },
            "type": "scattercarpet"
           }
          ],
          "scattergeo": [
           {
            "marker": {
             "colorbar": {
              "outlinewidth": 0,
              "ticks": ""
             }
            },
            "type": "scattergeo"
           }
          ],
          "scattergl": [
           {
            "marker": {
             "colorbar": {
              "outlinewidth": 0,
              "ticks": ""
             }
            },
            "type": "scattergl"
           }
          ],
          "scattermap": [
           {
            "marker": {
             "colorbar": {
              "outlinewidth": 0,
              "ticks": ""
             }
            },
            "type": "scattermap"
           }
          ],
          "scattermapbox": [
           {
            "marker": {
             "colorbar": {
              "outlinewidth": 0,
              "ticks": ""
             }
            },
            "type": "scattermapbox"
           }
          ],
          "scatterpolar": [
           {
            "marker": {
             "colorbar": {
              "outlinewidth": 0,
              "ticks": ""
             }
            },
            "type": "scatterpolar"
           }
          ],
          "scatterpolargl": [
           {
            "marker": {
             "colorbar": {
              "outlinewidth": 0,
              "ticks": ""
             }
            },
            "type": "scatterpolargl"
           }
          ],
          "scatterternary": [
           {
            "marker": {
             "colorbar": {
              "outlinewidth": 0,
              "ticks": ""
             }
            },
            "type": "scatterternary"
           }
          ],
          "surface": [
           {
            "colorbar": {
             "outlinewidth": 0,
             "ticks": ""
            },
            "colorscale": [
             [
              0,
              "#0d0887"
             ],
             [
              0.1111111111111111,
              "#46039f"
             ],
             [
              0.2222222222222222,
              "#7201a8"
             ],
             [
              0.3333333333333333,
              "#9c179e"
             ],
             [
              0.4444444444444444,
              "#bd3786"
             ],
             [
              0.5555555555555556,
              "#d8576b"
             ],
             [
              0.6666666666666666,
              "#ed7953"
             ],
             [
              0.7777777777777778,
              "#fb9f3a"
             ],
             [
              0.8888888888888888,
              "#fdca26"
             ],
             [
              1,
              "#f0f921"
             ]
            ],
            "type": "surface"
           }
          ],
          "table": [
           {
            "cells": {
             "fill": {
              "color": "#EBF0F8"
             },
             "line": {
              "color": "white"
             }
            },
            "header": {
             "fill": {
              "color": "#C8D4E3"
             },
             "line": {
              "color": "white"
             }
            },
            "type": "table"
           }
          ]
         },
         "layout": {
          "annotationdefaults": {
           "arrowcolor": "#2a3f5f",
           "arrowhead": 0,
           "arrowwidth": 1
          },
          "autotypenumbers": "strict",
          "coloraxis": {
           "colorbar": {
            "outlinewidth": 0,
            "ticks": ""
           }
          },
          "colorscale": {
           "diverging": [
            [
             0,
             "#8e0152"
            ],
            [
             0.1,
             "#c51b7d"
            ],
            [
             0.2,
             "#de77ae"
            ],
            [
             0.3,
             "#f1b6da"
            ],
            [
             0.4,
             "#fde0ef"
            ],
            [
             0.5,
             "#f7f7f7"
            ],
            [
             0.6,
             "#e6f5d0"
            ],
            [
             0.7,
             "#b8e186"
            ],
            [
             0.8,
             "#7fbc41"
            ],
            [
             0.9,
             "#4d9221"
            ],
            [
             1,
             "#276419"
            ]
           ],
           "sequential": [
            [
             0,
             "#0d0887"
            ],
            [
             0.1111111111111111,
             "#46039f"
            ],
            [
             0.2222222222222222,
             "#7201a8"
            ],
            [
             0.3333333333333333,
             "#9c179e"
            ],
            [
             0.4444444444444444,
             "#bd3786"
            ],
            [
             0.5555555555555556,
             "#d8576b"
            ],
            [
             0.6666666666666666,
             "#ed7953"
            ],
            [
             0.7777777777777778,
             "#fb9f3a"
            ],
            [
             0.8888888888888888,
             "#fdca26"
            ],
            [
             1,
             "#f0f921"
            ]
           ],
           "sequentialminus": [
            [
             0,
             "#0d0887"
            ],
            [
             0.1111111111111111,
             "#46039f"
            ],
            [
             0.2222222222222222,
             "#7201a8"
            ],
            [
             0.3333333333333333,
             "#9c179e"
            ],
            [
             0.4444444444444444,
             "#bd3786"
            ],
            [
             0.5555555555555556,
             "#d8576b"
            ],
            [
             0.6666666666666666,
             "#ed7953"
            ],
            [
             0.7777777777777778,
             "#fb9f3a"
            ],
            [
             0.8888888888888888,
             "#fdca26"
            ],
            [
             1,
             "#f0f921"
            ]
           ]
          },
          "colorway": [
           "#636efa",
           "#EF553B",
           "#00cc96",
           "#ab63fa",
           "#FFA15A",
           "#19d3f3",
           "#FF6692",
           "#B6E880",
           "#FF97FF",
           "#FECB52"
          ],
          "font": {
           "color": "#2a3f5f"
          },
          "geo": {
           "bgcolor": "white",
           "lakecolor": "white",
           "landcolor": "white",
           "showlakes": true,
           "showland": true,
           "subunitcolor": "#C8D4E3"
          },
          "hoverlabel": {
           "align": "left"
          },
          "hovermode": "closest",
          "mapbox": {
           "style": "light"
          },
          "paper_bgcolor": "white",
          "plot_bgcolor": "white",
          "polar": {
           "angularaxis": {
            "gridcolor": "#EBF0F8",
            "linecolor": "#EBF0F8",
            "ticks": ""
           },
           "bgcolor": "white",
           "radialaxis": {
            "gridcolor": "#EBF0F8",
            "linecolor": "#EBF0F8",
            "ticks": ""
           }
          },
          "scene": {
           "xaxis": {
            "backgroundcolor": "white",
            "gridcolor": "#DFE8F3",
            "gridwidth": 2,
            "linecolor": "#EBF0F8",
            "showbackground": true,
            "ticks": "",
            "zerolinecolor": "#EBF0F8"
           },
           "yaxis": {
            "backgroundcolor": "white",
            "gridcolor": "#DFE8F3",
            "gridwidth": 2,
            "linecolor": "#EBF0F8",
            "showbackground": true,
            "ticks": "",
            "zerolinecolor": "#EBF0F8"
           },
           "zaxis": {
            "backgroundcolor": "white",
            "gridcolor": "#DFE8F3",
            "gridwidth": 2,
            "linecolor": "#EBF0F8",
            "showbackground": true,
            "ticks": "",
            "zerolinecolor": "#EBF0F8"
           }
          },
          "shapedefaults": {
           "line": {
            "color": "#2a3f5f"
           }
          },
          "ternary": {
           "aaxis": {
            "gridcolor": "#DFE8F3",
            "linecolor": "#A2B1C6",
            "ticks": ""
           },
           "baxis": {
            "gridcolor": "#DFE8F3",
            "linecolor": "#A2B1C6",
            "ticks": ""
           },
           "bgcolor": "white",
           "caxis": {
            "gridcolor": "#DFE8F3",
            "linecolor": "#A2B1C6",
            "ticks": ""
           }
          },
          "title": {
           "x": 0.05
          },
          "xaxis": {
           "automargin": true,
           "gridcolor": "#EBF0F8",
           "linecolor": "#EBF0F8",
           "ticks": "",
           "title": {
            "standoff": 15
           },
           "zerolinecolor": "#EBF0F8",
           "zerolinewidth": 2
          },
          "yaxis": {
           "automargin": true,
           "gridcolor": "#EBF0F8",
           "linecolor": "#EBF0F8",
           "ticks": "",
           "title": {
            "standoff": 15
           },
           "zerolinecolor": "#EBF0F8",
           "zerolinewidth": 2
          }
         }
        },
        "title": {
         "text": "Generator and Discriminator Loss"
        },
        "xaxis": {
         "title": {
          "text": "kimg"
         }
        },
        "yaxis": {
         "title": {
          "text": "Loss"
         }
        }
       }
      }
     },
     "metadata": {},
     "output_type": "display_data"
    },
    {
     "data": {
      "application/vnd.plotly.v1+json": {
       "config": {
        "plotlyServerURL": "https://plot.ly"
       },
       "data": [
        {
         "mode": "lines",
         "name": "Loss/scores/fake",
         "type": "scatter",
         "x": {
          "bdata": "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",
          "dtype": "i2"
         },
         "y": {
          "bdata": "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",
          "dtype": "f8"
         }
        },
        {
         "mode": "lines",
         "name": "Loss/scores/real",
         "type": "scatter",
         "x": {
          "bdata": "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",
          "dtype": "i2"
         },
         "y": {
          "bdata": "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",
          "dtype": "f8"
         }
        }
       ],
       "layout": {
        "legend": {
         "x": 0,
         "y": 1
        },
        "template": {
         "data": {
          "bar": [
           {
            "error_x": {
             "color": "#2a3f5f"
            },
            "error_y": {
             "color": "#2a3f5f"
            },
            "marker": {
             "line": {
              "color": "white",
              "width": 0.5
             },
             "pattern": {
              "fillmode": "overlay",
              "size": 10,
              "solidity": 0.2
             }
            },
            "type": "bar"
           }
          ],
          "barpolar": [
           {
            "marker": {
             "line": {
              "color": "white",
              "width": 0.5
             },
             "pattern": {
              "fillmode": "overlay",
              "size": 10,
              "solidity": 0.2
             }
            },
            "type": "barpolar"
           }
          ],
          "carpet": [
           {
            "aaxis": {
             "endlinecolor": "#2a3f5f",
             "gridcolor": "#C8D4E3",
             "linecolor": "#C8D4E3",
             "minorgridcolor": "#C8D4E3",
             "startlinecolor": "#2a3f5f"
            },
            "baxis": {
             "endlinecolor": "#2a3f5f",
             "gridcolor": "#C8D4E3",
             "linecolor": "#C8D4E3",
             "minorgridcolor": "#C8D4E3",
             "startlinecolor": "#2a3f5f"
            },
            "type": "carpet"
           }
          ],
          "choropleth": [
           {
            "colorbar": {
             "outlinewidth": 0,
             "ticks": ""
            },
            "type": "choropleth"
           }
          ],
          "contour": [
           {
            "colorbar": {
             "outlinewidth": 0,
             "ticks": ""
            },
            "colorscale": [
             [
              0,
              "#0d0887"
             ],
             [
              0.1111111111111111,
              "#46039f"
             ],
             [
              0.2222222222222222,
              "#7201a8"
             ],
             [
              0.3333333333333333,
              "#9c179e"
             ],
             [
              0.4444444444444444,
              "#bd3786"
             ],
             [
              0.5555555555555556,
              "#d8576b"
             ],
             [
              0.6666666666666666,
              "#ed7953"
             ],
             [
              0.7777777777777778,
              "#fb9f3a"
             ],
             [
              0.8888888888888888,
              "#fdca26"
             ],
             [
              1,
              "#f0f921"
             ]
            ],
            "type": "contour"
           }
          ],
          "contourcarpet": [
           {
            "colorbar": {
             "outlinewidth": 0,
             "ticks": ""
            },
            "type": "contourcarpet"
           }
          ],
          "heatmap": [
           {
            "colorbar": {
             "outlinewidth": 0,
             "ticks": ""
            },
            "colorscale": [
             [
              0,
              "#0d0887"
             ],
             [
              0.1111111111111111,
              "#46039f"
             ],
             [
              0.2222222222222222,
              "#7201a8"
             ],
             [
              0.3333333333333333,
              "#9c179e"
             ],
             [
              0.4444444444444444,
              "#bd3786"
             ],
             [
              0.5555555555555556,
              "#d8576b"
             ],
             [
              0.6666666666666666,
              "#ed7953"
             ],
             [
              0.7777777777777778,
              "#fb9f3a"
             ],
             [
              0.8888888888888888,
              "#fdca26"
             ],
             [
              1,
              "#f0f921"
             ]
            ],
            "type": "heatmap"
           }
          ],
          "histogram": [
           {
            "marker": {
             "pattern": {
              "fillmode": "overlay",
              "size": 10,
              "solidity": 0.2
             }
            },
            "type": "histogram"
           }
          ],
          "histogram2d": [
           {
            "colorbar": {
             "outlinewidth": 0,
             "ticks": ""
            },
            "colorscale": [
             [
              0,
              "#0d0887"
             ],
             [
              0.1111111111111111,
              "#46039f"
             ],
             [
              0.2222222222222222,
              "#7201a8"
             ],
             [
              0.3333333333333333,
              "#9c179e"
             ],
             [
              0.4444444444444444,
              "#bd3786"
             ],
             [
              0.5555555555555556,
              "#d8576b"
             ],
             [
              0.6666666666666666,
              "#ed7953"
             ],
             [
              0.7777777777777778,
              "#fb9f3a"
             ],
             [
              0.8888888888888888,
              "#fdca26"
             ],
             [
              1,
              "#f0f921"
             ]
            ],
            "type": "histogram2d"
           }
          ],
          "histogram2dcontour": [
           {
            "colorbar": {
             "outlinewidth": 0,
             "ticks": ""
            },
            "colorscale": [
             [
              0,
              "#0d0887"
             ],
             [
              0.1111111111111111,
              "#46039f"
             ],
             [
              0.2222222222222222,
              "#7201a8"
             ],
             [
              0.3333333333333333,
              "#9c179e"
             ],
             [
              0.4444444444444444,
              "#bd3786"
             ],
             [
              0.5555555555555556,
              "#d8576b"
             ],
             [
              0.6666666666666666,
              "#ed7953"
             ],
             [
              0.7777777777777778,
              "#fb9f3a"
             ],
             [
              0.8888888888888888,
              "#fdca26"
             ],
             [
              1,
              "#f0f921"
             ]
            ],
            "type": "histogram2dcontour"
           }
          ],
          "mesh3d": [
           {
            "colorbar": {
             "outlinewidth": 0,
             "ticks": ""
            },
            "type": "mesh3d"
           }
          ],
          "parcoords": [
           {
            "line": {
             "colorbar": {
              "outlinewidth": 0,
              "ticks": ""
             }
            },
            "type": "parcoords"
           }
          ],
          "pie": [
           {
            "automargin": true,
            "type": "pie"
           }
          ],
          "scatter": [
           {
            "fillpattern": {
             "fillmode": "overlay",
             "size": 10,
             "solidity": 0.2
            },
            "type": "scatter"
           }
          ],
          "scatter3d": [
           {
            "line": {
             "colorbar": {
              "outlinewidth": 0,
              "ticks": ""
             }
            },
            "marker": {
             "colorbar": {
              "outlinewidth": 0,
              "ticks": ""
             }
            },
            "type": "scatter3d"
           }
          ],
          "scattercarpet": [
           {
            "marker": {
             "colorbar": {
              "outlinewidth": 0,
              "ticks": ""
             }
            },
            "type": "scattercarpet"
           }
          ],
          "scattergeo": [
           {
            "marker": {
             "colorbar": {
              "outlinewidth": 0,
              "ticks": ""
             }
            },
            "type": "scattergeo"
           }
          ],
          "scattergl": [
           {
            "marker": {
             "colorbar": {
              "outlinewidth": 0,
              "ticks": ""
             }
            },
            "type": "scattergl"
           }
          ],
          "scattermap": [
           {
            "marker": {
             "colorbar": {
              "outlinewidth": 0,
              "ticks": ""
             }
            },
            "type": "scattermap"
           }
          ],
          "scattermapbox": [
           {
            "marker": {
             "colorbar": {
              "outlinewidth": 0,
              "ticks": ""
             }
            },
            "type": "scattermapbox"
           }
          ],
          "scatterpolar": [
           {
            "marker": {
             "colorbar": {
              "outlinewidth": 0,
              "ticks": ""
             }
            },
            "type": "scatterpolar"
           }
          ],
          "scatterpolargl": [
           {
            "marker": {
             "colorbar": {
              "outlinewidth": 0,
              "ticks": ""
             }
            },
            "type": "scatterpolargl"
           }
          ],
          "scatterternary": [
           {
            "marker": {
             "colorbar": {
              "outlinewidth": 0,
              "ticks": ""
             }
            },
            "type": "scatterternary"
           }
          ],
          "surface": [
           {
            "colorbar": {
             "outlinewidth": 0,
             "ticks": ""
            },
            "colorscale": [
             [
              0,
              "#0d0887"
             ],
             [
              0.1111111111111111,
              "#46039f"
             ],
             [
              0.2222222222222222,
              "#7201a8"
             ],
             [
              0.3333333333333333,
              "#9c179e"
             ],
             [
              0.4444444444444444,
              "#bd3786"
             ],
             [
              0.5555555555555556,
              "#d8576b"
             ],
             [
              0.6666666666666666,
              "#ed7953"
             ],
             [
              0.7777777777777778,
              "#fb9f3a"
             ],
             [
              0.8888888888888888,
              "#fdca26"
             ],
             [
              1,
              "#f0f921"
             ]
            ],
            "type": "surface"
           }
          ],
          "table": [
           {
            "cells": {
             "fill": {
              "color": "#EBF0F8"
             },
             "line": {
              "color": "white"
             }
            },
            "header": {
             "fill": {
              "color": "#C8D4E3"
             },
             "line": {
              "color": "white"
             }
            },
            "type": "table"
           }
          ]
         },
         "layout": {
          "annotationdefaults": {
           "arrowcolor": "#2a3f5f",
           "arrowhead": 0,
           "arrowwidth": 1
          },
          "autotypenumbers": "strict",
          "coloraxis": {
           "colorbar": {
            "outlinewidth": 0,
            "ticks": ""
           }
          },
          "colorscale": {
           "diverging": [
            [
             0,
             "#8e0152"
            ],
            [
             0.1,
             "#c51b7d"
            ],
            [
             0.2,
             "#de77ae"
            ],
            [
             0.3,
             "#f1b6da"
            ],
            [
             0.4,
             "#fde0ef"
            ],
            [
             0.5,
             "#f7f7f7"
            ],
            [
             0.6,
             "#e6f5d0"
            ],
            [
             0.7,
             "#b8e186"
            ],
            [
             0.8,
             "#7fbc41"
            ],
            [
             0.9,
             "#4d9221"
            ],
            [
             1,
             "#276419"
            ]
           ],
           "sequential": [
            [
             0,
             "#0d0887"
            ],
            [
             0.1111111111111111,
             "#46039f"
            ],
            [
             0.2222222222222222,
             "#7201a8"
            ],
            [
             0.3333333333333333,
             "#9c179e"
            ],
            [
             0.4444444444444444,
             "#bd3786"
            ],
            [
             0.5555555555555556,
             "#d8576b"
            ],
            [
             0.6666666666666666,
             "#ed7953"
            ],
            [
             0.7777777777777778,
             "#fb9f3a"
            ],
            [
             0.8888888888888888,
             "#fdca26"
            ],
            [
             1,
             "#f0f921"
            ]
           ],
           "sequentialminus": [
            [
             0,
             "#0d0887"
            ],
            [
             0.1111111111111111,
             "#46039f"
            ],
            [
             0.2222222222222222,
             "#7201a8"
            ],
            [
             0.3333333333333333,
             "#9c179e"
            ],
            [
             0.4444444444444444,
             "#bd3786"
            ],
            [
             0.5555555555555556,
             "#d8576b"
            ],
            [
             0.6666666666666666,
             "#ed7953"
            ],
            [
             0.7777777777777778,
             "#fb9f3a"
            ],
            [
             0.8888888888888888,
             "#fdca26"
            ],
            [
             1,
             "#f0f921"
            ]
           ]
          },
          "colorway": [
           "#636efa",
           "#EF553B",
           "#00cc96",
           "#ab63fa",
           "#FFA15A",
           "#19d3f3",
           "#FF6692",
           "#B6E880",
           "#FF97FF",
           "#FECB52"
          ],
          "font": {
           "color": "#2a3f5f"
          },
          "geo": {
           "bgcolor": "white",
           "lakecolor": "white",
           "landcolor": "white",
           "showlakes": true,
           "showland": true,
           "subunitcolor": "#C8D4E3"
          },
          "hoverlabel": {
           "align": "left"
          },
          "hovermode": "closest",
          "mapbox": {
           "style": "light"
          },
          "paper_bgcolor": "white",
          "plot_bgcolor": "white",
          "polar": {
           "angularaxis": {
            "gridcolor": "#EBF0F8",
            "linecolor": "#EBF0F8",
            "ticks": ""
           },
           "bgcolor": "white",
           "radialaxis": {
            "gridcolor": "#EBF0F8",
            "linecolor": "#EBF0F8",
            "ticks": ""
           }
          },
          "scene": {
           "xaxis": {
            "backgroundcolor": "white",
            "gridcolor": "#DFE8F3",
            "gridwidth": 2,
            "linecolor": "#EBF0F8",
            "showbackground": true,
            "ticks": "",
            "zerolinecolor": "#EBF0F8"
           },
           "yaxis": {
            "backgroundcolor": "white",
            "gridcolor": "#DFE8F3",
            "gridwidth": 2,
            "linecolor": "#EBF0F8",
            "showbackground": true,
            "ticks": "",
            "zerolinecolor": "#EBF0F8"
           },
           "zaxis": {
            "backgroundcolor": "white",
            "gridcolor": "#DFE8F3",
            "gridwidth": 2,
            "linecolor": "#EBF0F8",
            "showbackground": true,
            "ticks": "",
            "zerolinecolor": "#EBF0F8"
           }
          },
          "shapedefaults": {
           "line": {
            "color": "#2a3f5f"
           }
          },
          "ternary": {
           "aaxis": {
            "gridcolor": "#DFE8F3",
            "linecolor": "#A2B1C6",
            "ticks": ""
           },
           "baxis": {
            "gridcolor": "#DFE8F3",
            "linecolor": "#A2B1C6",
            "ticks": ""
           },
           "bgcolor": "white",
           "caxis": {
            "gridcolor": "#DFE8F3",
            "linecolor": "#A2B1C6",
            "ticks": ""
           }
          },
          "title": {
           "x": 0.05
          },
          "xaxis": {
           "automargin": true,
           "gridcolor": "#EBF0F8",
           "linecolor": "#EBF0F8",
           "ticks": "",
           "title": {
            "standoff": 15
           },
           "zerolinecolor": "#EBF0F8",
           "zerolinewidth": 2
          },
          "yaxis": {
           "automargin": true,
           "gridcolor": "#EBF0F8",
           "linecolor": "#EBF0F8",
           "ticks": "",
           "title": {
            "standoff": 15
           },
           "zerolinecolor": "#EBF0F8",
           "zerolinewidth": 2
          }
         }
        },
        "title": {
         "text": "Discriminator Real/Fake Scores"
        },
        "xaxis": {
         "title": {
          "text": "kimg"
         }
        },
        "yaxis": {
         "title": {
          "text": "Score"
         }
        }
       }
      }
     },
     "metadata": {},
     "output_type": "display_data"
    },
    {
     "data": {
      "application/vnd.plotly.v1+json": {
       "config": {
        "plotlyServerURL": "https://plot.ly"
       },
       "data": [
        {
         "mode": "lines",
         "name": "Loss/pl_penalty",
         "type": "scatter",
         "x": {
          "bdata": "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",
          "dtype": "i2"
         },
         "y": {
          "bdata": "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",
          "dtype": "f8"
         }
        }
       ],
       "layout": {
        "legend": {
         "x": 0,
         "y": 1
        },
        "template": {
         "data": {
          "bar": [
           {
            "error_x": {
             "color": "#2a3f5f"
            },
            "error_y": {
             "color": "#2a3f5f"
            },
            "marker": {
             "line": {
              "color": "white",
              "width": 0.5
             },
             "pattern": {
              "fillmode": "overlay",
              "size": 10,
              "solidity": 0.2
             }
            },
            "type": "bar"
           }
          ],
          "barpolar": [
           {
            "marker": {
             "line": {
              "color": "white",
              "width": 0.5
             },
             "pattern": {
              "fillmode": "overlay",
              "size": 10,
              "solidity": 0.2
             }
            },
            "type": "barpolar"
           }
          ],
          "carpet": [
           {
            "aaxis": {
             "endlinecolor": "#2a3f5f",
             "gridcolor": "#C8D4E3",
             "linecolor": "#C8D4E3",
             "minorgridcolor": "#C8D4E3",
             "startlinecolor": "#2a3f5f"
            },
            "baxis": {
             "endlinecolor": "#2a3f5f",
             "gridcolor": "#C8D4E3",
             "linecolor": "#C8D4E3",
             "minorgridcolor": "#C8D4E3",
             "startlinecolor": "#2a3f5f"
            },
            "type": "carpet"
           }
          ],
          "choropleth": [
           {
            "colorbar": {
             "outlinewidth": 0,
             "ticks": ""
            },
            "type": "choropleth"
           }
          ],
          "contour": [
           {
            "colorbar": {
             "outlinewidth": 0,
             "ticks": ""
            },
            "colorscale": [
             [
              0,
              "#0d0887"
             ],
             [
              0.1111111111111111,
              "#46039f"
             ],
             [
              0.2222222222222222,
              "#7201a8"
             ],
             [
              0.3333333333333333,
              "#9c179e"
             ],
             [
              0.4444444444444444,
              "#bd3786"
             ],
             [
              0.5555555555555556,
              "#d8576b"
             ],
             [
              0.6666666666666666,
              "#ed7953"
             ],
             [
              0.7777777777777778,
              "#fb9f3a"
             ],
             [
              0.8888888888888888,
              "#fdca26"
             ],
             [
              1,
              "#f0f921"
             ]
            ],
            "type": "contour"
           }
          ],
          "contourcarpet": [
           {
            "colorbar": {
             "outlinewidth": 0,
             "ticks": ""
            },
            "type": "contourcarpet"
           }
          ],
          "heatmap": [
           {
            "colorbar": {
             "outlinewidth": 0,
             "ticks": ""
            },
            "colorscale": [
             [
              0,
              "#0d0887"
             ],
             [
              0.1111111111111111,
              "#46039f"
             ],
             [
              0.2222222222222222,
              "#7201a8"
             ],
             [
              0.3333333333333333,
              "#9c179e"
             ],
             [
              0.4444444444444444,
              "#bd3786"
             ],
             [
              0.5555555555555556,
              "#d8576b"
             ],
             [
              0.6666666666666666,
              "#ed7953"
             ],
             [
              0.7777777777777778,
              "#fb9f3a"
             ],
             [
              0.8888888888888888,
              "#fdca26"
             ],
             [
              1,
              "#f0f921"
             ]
            ],
            "type": "heatmap"
           }
          ],
          "histogram": [
           {
            "marker": {
             "pattern": {
              "fillmode": "overlay",
              "size": 10,
              "solidity": 0.2
             }
            },
            "type": "histogram"
           }
          ],
          "histogram2d": [
           {
            "colorbar": {
             "outlinewidth": 0,
             "ticks": ""
            },
            "colorscale": [
             [
              0,
              "#0d0887"
             ],
             [
              0.1111111111111111,
              "#46039f"
             ],
             [
              0.2222222222222222,
              "#7201a8"
             ],
             [
              0.3333333333333333,
              "#9c179e"
             ],
             [
              0.4444444444444444,
              "#bd3786"
             ],
             [
              0.5555555555555556,
              "#d8576b"
             ],
             [
              0.6666666666666666,
              "#ed7953"
             ],
             [
              0.7777777777777778,
              "#fb9f3a"
             ],
             [
              0.8888888888888888,
              "#fdca26"
             ],
             [
              1,
              "#f0f921"
             ]
            ],
            "type": "histogram2d"
           }
          ],
          "histogram2dcontour": [
           {
            "colorbar": {
             "outlinewidth": 0,
             "ticks": ""
            },
            "colorscale": [
             [
              0,
              "#0d0887"
             ],
             [
              0.1111111111111111,
              "#46039f"
             ],
             [
              0.2222222222222222,
              "#7201a8"
             ],
             [
              0.3333333333333333,
              "#9c179e"
             ],
             [
              0.4444444444444444,
              "#bd3786"
             ],
             [
              0.5555555555555556,
              "#d8576b"
             ],
             [
              0.6666666666666666,
              "#ed7953"
             ],
             [
              0.7777777777777778,
              "#fb9f3a"
             ],
             [
              0.8888888888888888,
              "#fdca26"
             ],
             [
              1,
              "#f0f921"
             ]
            ],
            "type": "histogram2dcontour"
           }
          ],
          "mesh3d": [
           {
            "colorbar": {
             "outlinewidth": 0,
             "ticks": ""
            },
            "type": "mesh3d"
           }
          ],
          "parcoords": [
           {
            "line": {
             "colorbar": {
              "outlinewidth": 0,
              "ticks": ""
             }
            },
            "type": "parcoords"
           }
          ],
          "pie": [
           {
            "automargin": true,
            "type": "pie"
           }
          ],
          "scatter": [
           {
            "fillpattern": {
             "fillmode": "overlay",
             "size": 10,
             "solidity": 0.2
            },
            "type": "scatter"
           }
          ],
          "scatter3d": [
           {
            "line": {
             "colorbar": {
              "outlinewidth": 0,
              "ticks": ""
             }
            },
            "marker": {
             "colorbar": {
              "outlinewidth": 0,
              "ticks": ""
             }
            },
            "type": "scatter3d"
           }
          ],
          "scattercarpet": [
           {
            "marker": {
             "colorbar": {
              "outlinewidth": 0,
              "ticks": ""
             }
            },
            "type": "scattercarpet"
           }
          ],
          "scattergeo": [
           {
            "marker": {
             "colorbar": {
              "outlinewidth": 0,
              "ticks": ""
             }
            },
            "type": "scattergeo"
           }
          ],
          "scattergl": [
           {
            "marker": {
             "colorbar": {
              "outlinewidth": 0,
              "ticks": ""
             }
            },
            "type": "scattergl"
           }
          ],
          "scattermap": [
           {
            "marker": {
             "colorbar": {
              "outlinewidth": 0,
              "ticks": ""
             }
            },
            "type": "scattermap"
           }
          ],
          "scattermapbox": [
           {
            "marker": {
             "colorbar": {
              "outlinewidth": 0,
              "ticks": ""
             }
            },
            "type": "scattermapbox"
           }
          ],
          "scatterpolar": [
           {
            "marker": {
             "colorbar": {
              "outlinewidth": 0,
              "ticks": ""
             }
            },
            "type": "scatterpolar"
           }
          ],
          "scatterpolargl": [
           {
            "marker": {
             "colorbar": {
              "outlinewidth": 0,
              "ticks": ""
             }
            },
            "type": "scatterpolargl"
           }
          ],
          "scatterternary": [
           {
            "marker": {
             "colorbar": {
              "outlinewidth": 0,
              "ticks": ""
             }
            },
            "type": "scatterternary"
           }
          ],
          "surface": [
           {
            "colorbar": {
             "outlinewidth": 0,
             "ticks": ""
            },
            "colorscale": [
             [
              0,
              "#0d0887"
             ],
             [
              0.1111111111111111,
              "#46039f"
             ],
             [
              0.2222222222222222,
              "#7201a8"
             ],
             [
              0.3333333333333333,
              "#9c179e"
             ],
             [
              0.4444444444444444,
              "#bd3786"
             ],
             [
              0.5555555555555556,
              "#d8576b"
             ],
             [
              0.6666666666666666,
              "#ed7953"
             ],
             [
              0.7777777777777778,
              "#fb9f3a"
             ],
             [
              0.8888888888888888,
              "#fdca26"
             ],
             [
              1,
              "#f0f921"
             ]
            ],
            "type": "surface"
           }
          ],
          "table": [
           {
            "cells": {
             "fill": {
              "color": "#EBF0F8"
             },
             "line": {
              "color": "white"
             }
            },
            "header": {
             "fill": {
              "color": "#C8D4E3"
             },
             "line": {
              "color": "white"
             }
            },
            "type": "table"
           }
          ]
         },
         "layout": {
          "annotationdefaults": {
           "arrowcolor": "#2a3f5f",
           "arrowhead": 0,
           "arrowwidth": 1
          },
          "autotypenumbers": "strict",
          "coloraxis": {
           "colorbar": {
            "outlinewidth": 0,
            "ticks": ""
           }
          },
          "colorscale": {
           "diverging": [
            [
             0,
             "#8e0152"
            ],
            [
             0.1,
             "#c51b7d"
            ],
            [
             0.2,
             "#de77ae"
            ],
            [
             0.3,
             "#f1b6da"
            ],
            [
             0.4,
             "#fde0ef"
            ],
            [
             0.5,
             "#f7f7f7"
            ],
            [
             0.6,
             "#e6f5d0"
            ],
            [
             0.7,
             "#b8e186"
            ],
            [
             0.8,
             "#7fbc41"
            ],
            [
             0.9,
             "#4d9221"
            ],
            [
             1,
             "#276419"
            ]
           ],
           "sequential": [
            [
             0,
             "#0d0887"
            ],
            [
             0.1111111111111111,
             "#46039f"
            ],
            [
             0.2222222222222222,
             "#7201a8"
            ],
            [
             0.3333333333333333,
             "#9c179e"
            ],
            [
             0.4444444444444444,
             "#bd3786"
            ],
            [
             0.5555555555555556,
             "#d8576b"
            ],
            [
             0.6666666666666666,
             "#ed7953"
            ],
            [
             0.7777777777777778,
             "#fb9f3a"
            ],
            [
             0.8888888888888888,
             "#fdca26"
            ],
            [
             1,
             "#f0f921"
            ]
           ],
           "sequentialminus": [
            [
             0,
             "#0d0887"
            ],
            [
             0.1111111111111111,
             "#46039f"
            ],
            [
             0.2222222222222222,
             "#7201a8"
            ],
            [
             0.3333333333333333,
             "#9c179e"
            ],
            [
             0.4444444444444444,
             "#bd3786"
            ],
            [
             0.5555555555555556,
             "#d8576b"
            ],
            [
             0.6666666666666666,
             "#ed7953"
            ],
            [
             0.7777777777777778,
             "#fb9f3a"
            ],
            [
             0.8888888888888888,
             "#fdca26"
            ],
            [
             1,
             "#f0f921"
            ]
           ]
          },
          "colorway": [
           "#636efa",
           "#EF553B",
           "#00cc96",
           "#ab63fa",
           "#FFA15A",
           "#19d3f3",
           "#FF6692",
           "#B6E880",
           "#FF97FF",
           "#FECB52"
          ],
          "font": {
           "color": "#2a3f5f"
          },
          "geo": {
           "bgcolor": "white",
           "lakecolor": "white",
           "landcolor": "white",
           "showlakes": true,
           "showland": true,
           "subunitcolor": "#C8D4E3"
          },
          "hoverlabel": {
           "align": "left"
          },
          "hovermode": "closest",
          "mapbox": {
           "style": "light"
          },
          "paper_bgcolor": "white",
          "plot_bgcolor": "white",
          "polar": {
           "angularaxis": {
            "gridcolor": "#EBF0F8",
            "linecolor": "#EBF0F8",
            "ticks": ""
           },
           "bgcolor": "white",
           "radialaxis": {
            "gridcolor": "#EBF0F8",
            "linecolor": "#EBF0F8",
            "ticks": ""
           }
          },
          "scene": {
           "xaxis": {
            "backgroundcolor": "white",
            "gridcolor": "#DFE8F3",
            "gridwidth": 2,
            "linecolor": "#EBF0F8",
            "showbackground": true,
            "ticks": "",
            "zerolinecolor": "#EBF0F8"
           },
           "yaxis": {
            "backgroundcolor": "white",
            "gridcolor": "#DFE8F3",
            "gridwidth": 2,
            "linecolor": "#EBF0F8",
            "showbackground": true,
            "ticks": "",
            "zerolinecolor": "#EBF0F8"
           },
           "zaxis": {
            "backgroundcolor": "white",
            "gridcolor": "#DFE8F3",
            "gridwidth": 2,
            "linecolor": "#EBF0F8",
            "showbackground": true,
            "ticks": "",
            "zerolinecolor": "#EBF0F8"
           }
          },
          "shapedefaults": {
           "line": {
            "color": "#2a3f5f"
           }
          },
          "ternary": {
           "aaxis": {
            "gridcolor": "#DFE8F3",
            "linecolor": "#A2B1C6",
            "ticks": ""
           },
           "baxis": {
            "gridcolor": "#DFE8F3",
            "linecolor": "#A2B1C6",
            "ticks": ""
           },
           "bgcolor": "white",
           "caxis": {
            "gridcolor": "#DFE8F3",
            "linecolor": "#A2B1C6",
            "ticks": ""
           }
          },
          "title": {
           "x": 0.05
          },
          "xaxis": {
           "automargin": true,
           "gridcolor": "#EBF0F8",
           "linecolor": "#EBF0F8",
           "ticks": "",
           "title": {
            "standoff": 15
           },
           "zerolinecolor": "#EBF0F8",
           "zerolinewidth": 2
          },
          "yaxis": {
           "automargin": true,
           "gridcolor": "#EBF0F8",
           "linecolor": "#EBF0F8",
           "ticks": "",
           "title": {
            "standoff": 15
           },
           "zerolinecolor": "#EBF0F8",
           "zerolinewidth": 2
          }
         }
        },
        "title": {
         "text": "Loss pl_penalty"
        },
        "xaxis": {
         "title": {
          "text": "kimg"
         }
        },
        "yaxis": {
         "title": {
          "text": "Penalty"
         }
        }
       }
      }
     },
     "metadata": {},
     "output_type": "display_data"
    },
    {
     "data": {
      "application/vnd.plotly.v1+json": {
       "config": {
        "plotlyServerURL": "https://plot.ly"
       },
       "data": [
        {
         "mode": "lines",
         "name": "Progress/augment",
         "type": "scatter",
         "x": {
          "bdata": "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",
          "dtype": "i2"
         },
         "y": {
          "bdata": "AAAAAAAAAAAAAADAlBF3PwAAAKCKyYs/AAAAgCqpkz8AAAAgG72aPwAAAMBppaA/AAAAIHxypD8AAAAgOKSoPwAAAIDbZKs/AAAAoLxPrD8AAACAKIquPwAAAIBJ+bA/AAAAgPL0sT8AAACA03azPwAAAICah7M/AAAAgJi1tD8AAACAsia2PwAAAIAhyrc/AAAAgOYIuT8AAACAOtK5PwAAAIA5abo/AAAAgKl1uz8AAACAGBm9PwAAAIAyir4/AAAAgNuFvz8AAABAbKXAPwAAAMDORME/AAAAwHdAwj8AAABA9iLDPwAAAMDm48M/AAAAQCzXxD8AAABADsLFPwAAAMBTtcY/AAAAQNKXxz8AAADAwljIPwAAAMAWIsk/AAAAQEDSyT8AAADAvrTKPwAAAEDoZMs/AAAAQD2Xyz8AAADAZ7DLPwAAAEDn+8s/AAAAwEoEzD8AAADAu3nMPwAAAEA7xcw/AAAAwEgyzT8AAADAuafNPwAAAMBjDM4/AAAAwA7azT8AAABAOfPNPwAAAMCc+80/AAAAwNXqzT8AAADAKh3OPwAAAECqaM4/AAAAwCm0zj8AAADAKEvPPwAAAED+Mc8/AAAAwChLzz8AAABAjFPPPwAAAECMU88/AAAAwJnAzz8AAACg0xbQPwAAAOASiNA/AAAAYCD10D8AAAAgNU3RPwAAAGCtrdE/AAAAIMIF0j8AAAAgpVnSPwAAAOCdbtI/AAAAIDN70j8AAABgrETSPwAAAGA6ZtI/AAAAoHpA0j8AAABgVxLSPwAAACDCBdI/AAAAoCUO0j8AAABgyIfSPwAAACCk8NI/AAAAYDn90j8AAAAgawHTPwAAAKDOCdM/AAAA4GMW0z8AAABgxx7TPwAAACBrAdM/AAAA4GMW0z8AAACglRrTPwAAAOAqJ9M/AAAAYI4v0z8AAACgIzzTPwAAAOBjFtM/AAAA4LhI0z8AAADgf1nTPwAAACCjh9M/AAAA4GKt0z8AAAAgTezTPwAAAKBbwtM/AAAAoJSx0z8AAAAghtvTPwAAAOBFAdQ/AAAA4O9l1D8AAAAg2qTUPwAAAGBvsdQ/AAAAoMvO1D8AAAAgobXUPwAAACAv19Q/AAAA4O781D8AAACgIAHVPwAAAKCuItU/AAAA4LUN1T8AAABgi/TUPwAAAKAgAdU/AAAA4ApA1T8AAACgymXVPwAAAKDKZdU/AAAAYFGc1T8AAABgGK3VPwAAAKB0ytU/AAAA4F4J1j8AAAAguybWPwAAACBJSNY/AAAA4M9+1j8AAAAgLJzWPwAAAGDBqNY/AAAA4OvB1j8AAAAgD/DWPwAAAGDAP9c/AAAAIJ0R1z8AAAAgnRHXPwAAACArM9c/AAAA4CNI1z8AAAAgKzPXPwAAACArM9c/AAAA4CNI1z8AAACgxyrXPwAAAODOFdc/AAAAYMA/1z8AAACgHF3XPwAAAOAGnNc/AAAAoHGP1z8AAACgOKDXPwAAAOCUvdc/AAAAoFTj1z8AAABghufXPwAAAOCwANg/AAAA4M2s1z8AAACgxsHXPwAAAGD4xdc/AAAAIPHa1z8AAABgo5PXPwAAAKDHKtc/AAAAYDIe1z8AAABgwD/XPwAAAOCxadc/AAAAIA6H1z8AAABgMbXXPwAAAODp79c/AAAAILjr1z8AAADgW87XPwAAAKCN0tc/AAAAoHGP1z8AAABg+MXXPwAAACC469c/AAAAYDG11z8AAADgeHrXPwAAAKAcXdc/AAAAYPku1z8AAAAg8kPXPwAAACBHdtc/AAAAYNyC1z8AAADglL3XPwAAAKDGwdc/AAAAoFTj1z8AAABgTfjXPwAAAKAb9Nc/AAAAoDc32D8AAAAgYlDYPwAAAGBMj9g/AAAAIPBx2D8AAADg6IbYPwAAAGCiKtg/AAAAoDc32D8AAABgMEzYPwAAAOAhdtg/AAAA4CF22D8AAAAgt4LYPwAAAGDasNg/AAAAYPbz2D8AAADgy9rYPwAAAKD93tg/AAAA4Fn82D8AAAAgmtbYPwAAAKDE79g/AAAAYGjS2D8AAACg/d7YPwAAAOBZ/Ng/AAAAYC/j2D8AAACgGSLZPwAAAOBYk9k/AAAAINHz2T8AAACgbevZPwAAAGDY3tk/AAAAINJc2T8AAABghBXZPwAAAOB1P9k/AAAAICeP2T8AAACg38nZPwAAAOCQGdo/AAAA4AL42T8AAAAgXxXaPwAAAGC7Mto/AAAAILRH2j8AAAAgtEfaPwAAAOBXKto/AAAAoG3r2T8AAADgyQjaPwAAAGCCQ9o/AAAAoGyC2j8AAACgpXHaPwAAACAJeto/AAAAoPqj2j8AAADgc23aPwAAAKDBtNo/AAAAYIHa2j8AAABgD/zaPwAAAKAW59o/AAAA4DkV2z8AAABgnR3bPwAAAGBI69o/AAAAILPe2j8AAADgj7DaPwAAAKAzk9o/AAAAoKVx2j8AAADgHjvaPwAAAKCJLto/AAAAYLsy2j8AAABgSVTaPwAAACCXm9o/AAAA4Mif2j8AAAAgs97aPwAAACDszdo/AAAA4B3S2j8AAABg87jaPwAAACDszdo/AAAAIEEA2z8AAACgpAjbPwAAAOByBNs/AAAA4AAm2z8AAADgxzbbPwAAAGC6ydo/AAAAIHtY2j8AAADgc23aPwAAAGDzuNo/AAAAIOzN2j8AAADg5OLaPwAAACAIEds/AAAAIAgR2z8AAADgAY/aPwAAAKAXUNo/AAAA4AGP2j8AAADgj7DaPwAAAKAW59o/AAAA4OTi2j8AAACg3ffaPwAAAGDWDNs/AAAA4AAm2z8AAAAgzyHbPwAAAODk4to/AAAAYIHa2j8AAACg+TrbPwAAAOCOR9s/AAAAICRUyz8AAABA2bGhPwAAAGBkAbM/AAAAIG+Guz8AAAAA6IfBPwAAAKCXTMU/AAAAQEcRyT8AAABAXbDLPwAAACCf0c0/AAAAAGIj0D8AAADAPYzQPwAAAMA9jNA/AAAAgMLw0T8AAADAVSvTPwAAAIDaj9Q/AAAAAHW11T8AAABAJZzWPwAAAAAesdY/AAAAwKIV2D8AAABAWufYPwAAAABT/Ng/AAAAABmk2T8AAAAA30vaPwAAAEBV2ts/AAAAAGub2z8AAADA9AzaPwAAAIDtIdo/AAAAgNWC1z8AAABAsevXPwAAAABT/Ng/AAAAQJQ/2D8AAABACPDWPwAAAIDyLtc/AAAAQOtD1z8AAACAfn7YPwAAAAAZpNk/AAAAwPQM2j8AAABAWufYPwAAAAAZpNk/AAAAAN9L2j8AAADAgFzbPwAAAIAibdw/AAAAQDgu3D8AAABAjzLbPwAAAIDtIdo/AAAAwEsR2T8AAACARCbZPwAAAIDtIdo/AAAAQKze2j8AAACAeXHbPwAAAEBV2ts/AAAAwClY3D8AAAAAMUPcPwAAAEDhKd0/AAAAAPfq3D8AAACAXMXbPwAAAECPMts/AAAAgCd62T8AAABAII/ZPwAAAEAD49k/AAAAAFP82D8AAADAhWnYPwAAAACqANg/AAAAgCd62T8AAADASxHZPwAAAIC41tc/AAAAQM6X1z8AAAAAAQXXPwAAAEDrQ9c/AAAAAAEF1z8AAADAUB7WPwAAAMCnItU/AAAAQCqp0z8AAAAAzLnUPwAAAAA7XdY/AAAAAOll1D8AAAAA6WXUPwAAAMCKdtU/AAAAgIOL1T8AAAAAO13WPwAAAMCKdtU/AAAAwG3K1T8AAACAoDfVPwAAAADMudQ/AAAAQHyg1T8AAAAAO13WPwAAAICDi9U/AAAAAFgJ1j8AAADAUB7WPwAAAADHrNc/AAAAQJQ/2D8AAADAohXYPwAAAIC41tc/AAAAwEsR2T8AAAAA/PfZPwAAAACl89o/AAAAQHKG2z8AAAAAFJfcPwAAAAAxQ9w/AAAAgCJt3D8AAADAKVjcPwAAAAD36tw/AAAAQFXa2z8AAADAEbnZPwAAAICzydo/AAAAwIVp2D8AAACAmyrYPwAAAMCiFdg/AAAAgH5+2D8AAADAEbnZPwAAAIAKztk/AAAAgNB12j8AAAAAa5vbPwAAAEAgj9k/AAAAgCd62T8AAAAApfPaPwAAAIB5cds/AAAAgCd62T8AAABAII/ZPwAAAECPMts/AAAAAPz32T8AAABAPTvZPwAAAMDXYNo/AAAAwBG52T8AAAAAGaTZPwAAAIAKztk/AAAAQJQ/2D8AAABAd5PYPwAAAIAnetk/AAAAwNxt1z8AAACASTPWPwAAAIDVgtc/AAAAQHeT2D8AAAAAU/zYPwAAAEA9O9k/AAAAwPQM2j8AAAAAcKjYPwAAAMARudk/AAAAAKoA2D8AAADAhWnYPwAAAIAKztk/AAAAwC5l2T8AAADALmXZPwAAAEDJito/AAAAgArO2T8AAADAEbnZPwAAAEAD49k/AAAAQOY22j8AAACAXMXbPwAAAEDmNto/AAAAwIBc2z8AAADA7//cPwAAAADaPt0/AAAAQDgu3D8AAAAA2j7dPwAAAICREN4/AAAAwCRL3z8AAABA+cjfPwAAAMBeo94/AAAAQDMh3z8AAADA8QPgPwAAAGBYTeA/AAAAgFe43j8AAACAOgzfPwAAAMAkS98/AAAAgK683T8AAADAmPvdPwAAAEAzId8/AAAAIFFi4D8AAAAA3ELgPwAAAOBmI+A/AAAAoF844D8AAAAAourgPwAAAICwwOA/AAAAoF844D8AAAAA3ELgPwAAAED5yN8/AAAAwLer4D8AAACg64fhPwAAACBRYuA/AAAAQOMt4D8AAACAHWDfPwAAAIA6DN8/AAAAAIM63j8AAADA0lPdPwAAAIAFwdw/AAAAwAys3D8AAABAxH3dPwAAAICREN4/AAAAAGaO3j8AAABAUM3ePwAAAADy3d8/AAAA4El34D8AAABA4y3gPwAAAOBJd+A/AAAAQDMh3z8AAACAdGTePwAAAED5yN8/AAAAAL+W4D8AAACAzWzgPwAAAIAdYN8/AAAAwOry3z8AAACAALTfPwAAAAAPit8/AAAAIDS24D8AAACAkxThPwAAAOBJd+A/AAAAoCXg4D8AAABAqdXgPwAAAEDjLeA/AAAAwAef3z8AAABA+cjfPwAAAAC9kt0/AAAAANo+3T8AAABAbXnePwAAAMB7T94/AAAAAIM63j8AAADAB5/fPwAAAIDqGOA/AAAAAKDm3T8AAABA/tXcPwAAAAC9kt0/AAAAwO//3D8AAADAmPvdPwAAAABJ4t4/AAAAwCRL3z8AAACAALTfPwAAAMDUV+A/AAAAgM1s4D8AAACgXzjgPwAAAMCa/+A/AAAAgB1g3z8AAADAXqPePwAAAABmjt4/AAAAQG153j8AAABAMyHfPwAAAIDqGOA/AAAAgAC03z8AAADAQffePwAAAIAAtN8/AAAAwAef3z8AAACAsMDgPwAAAED5yN8/AAAAoF844D8AAADAt6vgPwAAAICwwOA/AAAA4PJy4T8AAACgsS/iPwAAAEA1JeI/AAAAoJSD4j8AAAAA1zXjPwAAAABL5uE/AAAAwLer4D8AAADAJEvfPwAAAIAAtN8/AAAAAIM63j8AAADAB5/fPwAAAAAsNt8/AAAAwAef3z8AAACgQozgPwAAAICwwOA/AAAAACw23z8AAABA+cjfPwAAAECp1eA/AAAAIPpd4T8AAAAAaJLhPwAAAGDknOE/AAAAoJSD4j8AAADAfVPhPwAAAGABSeE/AAAAgHZo4T8AAACA6hjgPwAAAEBted4/AAAAAPLd3z8AAAAASeLePwAAAAAPit8/AAAAwAef3z8AAADgZiPgPwAAAECp1eA/AAAAgDoM3z8AAABA/tXcPwAAAICREN4/AAAAwEH33j8AAADAB5/fPwAAAIDoFN0/AAAAQBuC3D8AAACAPxncPwAAAACDOt4/AAAAQFDN3j8AAAAA8t3fPwAAAKAl4OA/AAAA4El34D8AAACAsMDgPwAAAKAl4OA/AAAAwNRX4D8AAAAAgzrePwAAAAAUl9w/AAAAwNJT3T8AAAAALDbfPwAAAMDUV+A/AAAAQPnI3z8AAADAB5/fPwAAAKBCjOA/AAAA4CzL4D8AAADgSXfgPwAAAADy3d8/AAAAwCRL3z8AAADAXqPePwAAAIDLaN0/AAAAQFDN3j8AAACA6hjgPwAAAOBmI+A/AAAAwJr/4D8AAABA+cjfPwAAAICuvN0/AAAAAPfq3D8AAADAQffePwAAAEDjLeA/AAAAYFhN4D8AAADA6vLfPwAAAADcQuA/AAAAIBcK4T8AAADAmv/gPwAAAMCa/+A/AAAAoAg04T8AAACAWbzhPwAAACDdseE/AAAAIN2x4T8AAADAQ/vhPwAAAABokuE/AAAAoLEv4j8AAABgcOziPwAAAIACuOI/AAAAQN4g4z8AAACgztvhPwAAAKBCjOA/AAAAgJMU4T8AAACg64fhPwAAAABL5uE/AAAAYI2Y4j8AAACAyF/jPwAAAGA2lOM/AAAAwAmj4j8AAADAQ/vhPwAAAKDO2+E/AAAAgHZo4T8AAABgWE3gPwAAAMB7T94/AAAAgAC03z8AAADgLMvgPwAAAECp1eA/AAAAAPLd3z8AAAAAvZLdPwAAAMAMrNw/AAAAANo+3T8AAACAALTfPwAAAAAPit8/AAAAwOry3z8AAAAA8t3fPwAAAADaPt0/AAAAQKze2j8AAACAeXHbPwAAAECPMts/AAAAQHeT2D8AAACASTPWPwAAAEBf9NU/AAAAwBbG1j8AAABAQkjWPwAAAADkWNc/AAAAwKIV2D8AAAAAGaTZPwAAAAA2UNk/AAAAwBG52T8AAAAAx6zXPwAAAEAlnNY/AAAAQOtD1z8AAACAYdLYPwAAAMD0DNo/AAAAQI8y2z8AAABAVdrbPwAAAACIR9s/AAAAQBuC3D8AAACAdGTePwAAAIDLaN0/AAAAQI8y2z8AAACAs8naPwAAAMARudk/AAAAwEsR2T8AAAAANlDZPwAAAECUP9g/AAAAAHW11T8AAACAFOjTPwAAAMBy19I/AAAAgPc71D8AAABAZAHTPwAAAMDJ29E/AAAAgMLw0T8AAABAZAHTPwAAAAAGEtQ/AAAAAMy51D8AAADAbcrVPwAAAIBm39U/AAAAQF/01T8AAABAJZzWPwAAAADHrNc/AAAAQD072T8AAACA0HXaPwAAAIBcxds/AAAAAKDm3T8AAADAe0/ePwAAAICREN4/AAAAAGub2z8AAADADKzcPwAAAACIR9s/AAAAQFrn2D8AAABAQkjWPwAAAIAP29Y/AAAAQFrn2D8AAACAuNbXPwAAAECUP9g/AAAAAORY1z8AAADASxHZPwAAAACl89o/AAAAgEQm2T8AAABAsevXPwAAAIDtIdo/AAAAwIVp2D8AAABAJZzWPwAAAICgN9U/AAAAwOF61D8AAAAAO13WPwAAAABYCdY/AAAAQLb41D8AAACAZt/VPwAAAEDOl9c/AAAAQLHr1z8AAAAAcKjYPwAAAMARudk/AAAAQAPj2T8AAABAd5PYPwAAAIDVgtc/AAAAQLb41D8AAAAAzLnUPwAAAADMudQ/AAAAwG3K1T8AAAAABhLUPwAAAIBOQNM/AAAAgGvs0j8AAADAOH/TPwAAAACXbtI/AAAAQPVd0T8AAADArC/SPwAAAGD+ns8/AAAAgDEuzD8AAABg0mDKPwAAAGBHEck/AAAAQOhDxz8AAACgZL3IPwAAAADhNso/AAAAwMOKyj8AAABAc5PIPwAAAABASMY/AAAAoNltxz8AAABgvMHHPwAAAMA4O8k/AAAAoHpcyz8AAABAc5PIPwAAAICQP8g/AAAAYOj/zD8AAAAAgiXOPwAAAMBO2ss/AAAAQIkyyz8AAABg0mDKPwAAAMBO2ss/AAAA4K2nzT8AAADA78jPPwAAAAAoy9A/AAAAQPVd0T8AAACANqHQPwAAAID8SNE/AAAAwFo40D8AAACAR83OPwAAAGDo/8w/AAAAIOHyzz8AAADA5ofRPwAAAAB6wtI/AAAAQEdV0z8AAADApyLVPwAAAIBr7NI/AAAAwMnb0T8AAACATkDTPwAAAACXbtI/AAAAwD2M0D8AAAAAtBrSPwAAAIBOQNM/AAAAAOll1D8AAADA/ibUPwAAAIBJM9Y/AAAAQF/01T8AAABAmUzVPwAAAAAGEtQ/AAAAwKci1T8AAAAAO13WPwAAAECUP9g/AAAAAPz32T8AAABAsevXPwAAAICDi9U/AAAAAAYS1D8AAABA06TUPwAAAEDTpNQ/AAAAgCyH1j8AAACAfn7YPwAAAEAI8NY/AAAAgIOL1T8AAADA+RnXPwAAAMCFadg/AAAAABmk2T8AAADASxHZPwAAAAAesdY/AAAAAAYS1D8AAABA2LHRPwAAAOA4984/AAAAQPVd0T8AAACA/EjRPwAAAMCPg9I/AAAAgMLw0T8AAADAVSvTPwAAAMA4f9M/AAAAgL3j1D8AAABA8FDUPwAAAECZTNU/AAAAwDh/0z8AAACAoDfVPwAAAMD5Gdc/AAAAgLjW1z8AAACASTPWPwAAAMCnItU/AAAAAB6x1j8AAADA3G3XPwAAAMD5Gdc/AAAAgH5+2D8AAADASxHZPwAAAABT/Ng/AAAAAAEF1z8AAADAUB7WPwAAAIAP29Y/AAAAwFAe1j8AAABAtvjUPwAAAIDaj9Q/AAAAwDh/0z8AAACAFOjTPwAAAADRxtE/AAAAQJ5Z0j8AAAAACx/RPwAAAEDYsdE/AAAAQC+20D8AAAAAYiPQPwAAAOCtp80/AAAAgLx9zT8AAAAA99XMPwAAAABiI9A/AAAAgEfNzj8AAADgrafNPwAAAIA2odA/AAAAgEfNzj8AAACAMS7MPwAAAOCBacg/AAAAYEcRyT8AAADAODvJPwAAAOCBacg/AAAAwDg7yT8AAACgTh7GPwAAAMAinMY/AAAAIIl2xT8AAADADP3DPwAAAIDvUMQ/AAAAYKYixT8AAABAXfTFPwAAAEBd9MU/AAAAALX4xD8AAAAg/ibEPwAAAIDZscE/AAAAoCLgwD8AAADgVSvDPwAAAEBd9MU/AAAA4PYZxz8AAAAgnxXIPwAAAKBkvcg/AAAAwDg7yT8AAAAgFMbGPwAAAMAM/cM/AAAAgHqgxT8AAADgDLnJPwAAAIBHzc4/AAAAgPxI0T8AAAAAXRbTPwAAAMBy19I/AAAAANHG0T8AAACAR83OPwAAAED+4sk/AAAAQOhDxz8AAABAXfTFPwAAAODgesQ/AAAAoCLgwD8AAADAzJe3PwAAAMC+fa0/AAAAYIQlrj8AAACgag6wPwAAAADZsbE/AAAAICSctj8AAABAhiW+PwAAAMDjNro/AAAAwLX4tD8AAABgR1WzPwAAAMCeWbI/AAAAwMyXtz8AAABgdZO4PwAAAAAej7k/AAAAgMB9vT8AAABAhiW+PwAAAODK28E/AAAAgHqgxT8AAABgRxHJPwAAACDLU80/AAAAwD2M0D8AAACA/EjRPwAAAMBVK9M/AAAAQLb41D8AAAAAWAnWPwAAAMBQHtY/AAAAwFAe1j8AAABAsevXPwAAAABwqNg/AAAAQMmK2j8AAAAAa5vbPwAAAAC9kt0/AAAAQFDN3j8AAACgQozgPwAAAGAe9eA/AAAAIN2x4T8AAABAGHniPwAAAGBTQOM/AAAAwLKe4z8AAADg7WXkPwAAAMAhQuU/AAAAYGvf5T8AAADArZHmPwAAAIBPouc/AAAAoIpp6D8AAACA+J3oPwAAAOA6UOk/AAAA4AD46T8AAACASpXqPwAAACB3hus/AAAAQOyl6z8AAADAFyjrPwAAAOCMR+s/AAAAwMAj7D8AAACgLljsPwAAAKD0/+w/AAAAQHj17D8AAACgnfvtPwAAAIALMO4/AAAAYJYQ7j8AAACACzDuPwAAAKBjo+4/AAAAwLsW7z8AAACgDJ/vPw==",
          "dtype": "f8"
         }
        }
       ],
       "layout": {
        "legend": {
         "x": 0,
         "y": 1
        },
        "template": {
         "data": {
          "bar": [
           {
            "error_x": {
             "color": "#2a3f5f"
            },
            "error_y": {
             "color": "#2a3f5f"
            },
            "marker": {
             "line": {
              "color": "white",
              "width": 0.5
             },
             "pattern": {
              "fillmode": "overlay",
              "size": 10,
              "solidity": 0.2
             }
            },
            "type": "bar"
           }
          ],
          "barpolar": [
           {
            "marker": {
             "line": {
              "color": "white",
              "width": 0.5
             },
             "pattern": {
              "fillmode": "overlay",
              "size": 10,
              "solidity": 0.2
             }
            },
            "type": "barpolar"
           }
          ],
          "carpet": [
           {
            "aaxis": {
             "endlinecolor": "#2a3f5f",
             "gridcolor": "#C8D4E3",
             "linecolor": "#C8D4E3",
             "minorgridcolor": "#C8D4E3",
             "startlinecolor": "#2a3f5f"
            },
            "baxis": {
             "endlinecolor": "#2a3f5f",
             "gridcolor": "#C8D4E3",
             "linecolor": "#C8D4E3",
             "minorgridcolor": "#C8D4E3",
             "startlinecolor": "#2a3f5f"
            },
            "type": "carpet"
           }
          ],
          "choropleth": [
           {
            "colorbar": {
             "outlinewidth": 0,
             "ticks": ""
            },
            "type": "choropleth"
           }
          ],
          "contour": [
           {
            "colorbar": {
             "outlinewidth": 0,
             "ticks": ""
            },
            "colorscale": [
             [
              0,
              "#0d0887"
             ],
             [
              0.1111111111111111,
              "#46039f"
             ],
             [
              0.2222222222222222,
              "#7201a8"
             ],
             [
              0.3333333333333333,
              "#9c179e"
             ],
             [
              0.4444444444444444,
              "#bd3786"
             ],
             [
              0.5555555555555556,
              "#d8576b"
             ],
             [
              0.6666666666666666,
              "#ed7953"
             ],
             [
              0.7777777777777778,
              "#fb9f3a"
             ],
             [
              0.8888888888888888,
              "#fdca26"
             ],
             [
              1,
              "#f0f921"
             ]
            ],
            "type": "contour"
           }
          ],
          "contourcarpet": [
           {
            "colorbar": {
             "outlinewidth": 0,
             "ticks": ""
            },
            "type": "contourcarpet"
           }
          ],
          "heatmap": [
           {
            "colorbar": {
             "outlinewidth": 0,
             "ticks": ""
            },
            "colorscale": [
             [
              0,
              "#0d0887"
             ],
             [
              0.1111111111111111,
              "#46039f"
             ],
             [
              0.2222222222222222,
              "#7201a8"
             ],
             [
              0.3333333333333333,
              "#9c179e"
             ],
             [
              0.4444444444444444,
              "#bd3786"
             ],
             [
              0.5555555555555556,
              "#d8576b"
             ],
             [
              0.6666666666666666,
              "#ed7953"
             ],
             [
              0.7777777777777778,
              "#fb9f3a"
             ],
             [
              0.8888888888888888,
              "#fdca26"
             ],
             [
              1,
              "#f0f921"
             ]
            ],
            "type": "heatmap"
           }
          ],
          "histogram": [
           {
            "marker": {
             "pattern": {
              "fillmode": "overlay",
              "size": 10,
              "solidity": 0.2
             }
            },
            "type": "histogram"
           }
          ],
          "histogram2d": [
           {
            "colorbar": {
             "outlinewidth": 0,
             "ticks": ""
            },
            "colorscale": [
             [
              0,
              "#0d0887"
             ],
             [
              0.1111111111111111,
              "#46039f"
             ],
             [
              0.2222222222222222,
              "#7201a8"
             ],
             [
              0.3333333333333333,
              "#9c179e"
             ],
             [
              0.4444444444444444,
              "#bd3786"
             ],
             [
              0.5555555555555556,
              "#d8576b"
             ],
             [
              0.6666666666666666,
              "#ed7953"
             ],
             [
              0.7777777777777778,
              "#fb9f3a"
             ],
             [
              0.8888888888888888,
              "#fdca26"
             ],
             [
              1,
              "#f0f921"
             ]
            ],
            "type": "histogram2d"
           }
          ],
          "histogram2dcontour": [
           {
            "colorbar": {
             "outlinewidth": 0,
             "ticks": ""
            },
            "colorscale": [
             [
              0,
              "#0d0887"
             ],
             [
              0.1111111111111111,
              "#46039f"
             ],
             [
              0.2222222222222222,
              "#7201a8"
             ],
             [
              0.3333333333333333,
              "#9c179e"
             ],
             [
              0.4444444444444444,
              "#bd3786"
             ],
             [
              0.5555555555555556,
              "#d8576b"
             ],
             [
              0.6666666666666666,
              "#ed7953"
             ],
             [
              0.7777777777777778,
              "#fb9f3a"
             ],
             [
              0.8888888888888888,
              "#fdca26"
             ],
             [
              1,
              "#f0f921"
             ]
            ],
            "type": "histogram2dcontour"
           }
          ],
          "mesh3d": [
           {
            "colorbar": {
             "outlinewidth": 0,
             "ticks": ""
            },
            "type": "mesh3d"
           }
          ],
          "parcoords": [
           {
            "line": {
             "colorbar": {
              "outlinewidth": 0,
              "ticks": ""
             }
            },
            "type": "parcoords"
           }
          ],
          "pie": [
           {
            "automargin": true,
            "type": "pie"
           }
          ],
          "scatter": [
           {
            "fillpattern": {
             "fillmode": "overlay",
             "size": 10,
             "solidity": 0.2
            },
            "type": "scatter"
           }
          ],
          "scatter3d": [
           {
            "line": {
             "colorbar": {
              "outlinewidth": 0,
              "ticks": ""
             }
            },
            "marker": {
             "colorbar": {
              "outlinewidth": 0,
              "ticks": ""
             }
            },
            "type": "scatter3d"
           }
          ],
          "scattercarpet": [
           {
            "marker": {
             "colorbar": {
              "outlinewidth": 0,
              "ticks": ""
             }
            },
            "type": "scattercarpet"
           }
          ],
          "scattergeo": [
           {
            "marker": {
             "colorbar": {
              "outlinewidth": 0,
              "ticks": ""
             }
            },
            "type": "scattergeo"
           }
          ],
          "scattergl": [
           {
            "marker": {
             "colorbar": {
              "outlinewidth": 0,
              "ticks": ""
             }
            },
            "type": "scattergl"
           }
          ],
          "scattermap": [
           {
            "marker": {
             "colorbar": {
              "outlinewidth": 0,
              "ticks": ""
             }
            },
            "type": "scattermap"
           }
          ],
          "scattermapbox": [
           {
            "marker": {
             "colorbar": {
              "outlinewidth": 0,
              "ticks": ""
             }
            },
            "type": "scattermapbox"
           }
          ],
          "scatterpolar": [
           {
            "marker": {
             "colorbar": {
              "outlinewidth": 0,
              "ticks": ""
             }
            },
            "type": "scatterpolar"
           }
          ],
          "scatterpolargl": [
           {
            "marker": {
             "colorbar": {
              "outlinewidth": 0,
              "ticks": ""
             }
            },
            "type": "scatterpolargl"
           }
          ],
          "scatterternary": [
           {
            "marker": {
             "colorbar": {
              "outlinewidth": 0,
              "ticks": ""
             }
            },
            "type": "scatterternary"
           }
          ],
          "surface": [
           {
            "colorbar": {
             "outlinewidth": 0,
             "ticks": ""
            },
            "colorscale": [
             [
              0,
              "#0d0887"
             ],
             [
              0.1111111111111111,
              "#46039f"
             ],
             [
              0.2222222222222222,
              "#7201a8"
             ],
             [
              0.3333333333333333,
              "#9c179e"
             ],
             [
              0.4444444444444444,
              "#bd3786"
             ],
             [
              0.5555555555555556,
              "#d8576b"
             ],
             [
              0.6666666666666666,
              "#ed7953"
             ],
             [
              0.7777777777777778,
              "#fb9f3a"
             ],
             [
              0.8888888888888888,
              "#fdca26"
             ],
             [
              1,
              "#f0f921"
             ]
            ],
            "type": "surface"
           }
          ],
          "table": [
           {
            "cells": {
             "fill": {
              "color": "#EBF0F8"
             },
             "line": {
              "color": "white"
             }
            },
            "header": {
             "fill": {
              "color": "#C8D4E3"
             },
             "line": {
              "color": "white"
             }
            },
            "type": "table"
           }
          ]
         },
         "layout": {
          "annotationdefaults": {
           "arrowcolor": "#2a3f5f",
           "arrowhead": 0,
           "arrowwidth": 1
          },
          "autotypenumbers": "strict",
          "coloraxis": {
           "colorbar": {
            "outlinewidth": 0,
            "ticks": ""
           }
          },
          "colorscale": {
           "diverging": [
            [
             0,
             "#8e0152"
            ],
            [
             0.1,
             "#c51b7d"
            ],
            [
             0.2,
             "#de77ae"
            ],
            [
             0.3,
             "#f1b6da"
            ],
            [
             0.4,
             "#fde0ef"
            ],
            [
             0.5,
             "#f7f7f7"
            ],
            [
             0.6,
             "#e6f5d0"
            ],
            [
             0.7,
             "#b8e186"
            ],
            [
             0.8,
             "#7fbc41"
            ],
            [
             0.9,
             "#4d9221"
            ],
            [
             1,
             "#276419"
            ]
           ],
           "sequential": [
            [
             0,
             "#0d0887"
            ],
            [
             0.1111111111111111,
             "#46039f"
            ],
            [
             0.2222222222222222,
             "#7201a8"
            ],
            [
             0.3333333333333333,
             "#9c179e"
            ],
            [
             0.4444444444444444,
             "#bd3786"
            ],
            [
             0.5555555555555556,
             "#d8576b"
            ],
            [
             0.6666666666666666,
             "#ed7953"
            ],
            [
             0.7777777777777778,
             "#fb9f3a"
            ],
            [
             0.8888888888888888,
             "#fdca26"
            ],
            [
             1,
             "#f0f921"
            ]
           ],
           "sequentialminus": [
            [
             0,
             "#0d0887"
            ],
            [
             0.1111111111111111,
             "#46039f"
            ],
            [
             0.2222222222222222,
             "#7201a8"
            ],
            [
             0.3333333333333333,
             "#9c179e"
            ],
            [
             0.4444444444444444,
             "#bd3786"
            ],
            [
             0.5555555555555556,
             "#d8576b"
            ],
            [
             0.6666666666666666,
             "#ed7953"
            ],
            [
             0.7777777777777778,
             "#fb9f3a"
            ],
            [
             0.8888888888888888,
             "#fdca26"
            ],
            [
             1,
             "#f0f921"
            ]
           ]
          },
          "colorway": [
           "#636efa",
           "#EF553B",
           "#00cc96",
           "#ab63fa",
           "#FFA15A",
           "#19d3f3",
           "#FF6692",
           "#B6E880",
           "#FF97FF",
           "#FECB52"
          ],
          "font": {
           "color": "#2a3f5f"
          },
          "geo": {
           "bgcolor": "white",
           "lakecolor": "white",
           "landcolor": "white",
           "showlakes": true,
           "showland": true,
           "subunitcolor": "#C8D4E3"
          },
          "hoverlabel": {
           "align": "left"
          },
          "hovermode": "closest",
          "mapbox": {
           "style": "light"
          },
          "paper_bgcolor": "white",
          "plot_bgcolor": "white",
          "polar": {
           "angularaxis": {
            "gridcolor": "#EBF0F8",
            "linecolor": "#EBF0F8",
            "ticks": ""
           },
           "bgcolor": "white",
           "radialaxis": {
            "gridcolor": "#EBF0F8",
            "linecolor": "#EBF0F8",
            "ticks": ""
           }
          },
          "scene": {
           "xaxis": {
            "backgroundcolor": "white",
            "gridcolor": "#DFE8F3",
            "gridwidth": 2,
            "linecolor": "#EBF0F8",
            "showbackground": true,
            "ticks": "",
            "zerolinecolor": "#EBF0F8"
           },
           "yaxis": {
            "backgroundcolor": "white",
            "gridcolor": "#DFE8F3",
            "gridwidth": 2,
            "linecolor": "#EBF0F8",
            "showbackground": true,
            "ticks": "",
            "zerolinecolor": "#EBF0F8"
           },
           "zaxis": {
            "backgroundcolor": "white",
            "gridcolor": "#DFE8F3",
            "gridwidth": 2,
            "linecolor": "#EBF0F8",
            "showbackground": true,
            "ticks": "",
            "zerolinecolor": "#EBF0F8"
           }
          },
          "shapedefaults": {
           "line": {
            "color": "#2a3f5f"
           }
          },
          "ternary": {
           "aaxis": {
            "gridcolor": "#DFE8F3",
            "linecolor": "#A2B1C6",
            "ticks": ""
           },
           "baxis": {
            "gridcolor": "#DFE8F3",
            "linecolor": "#A2B1C6",
            "ticks": ""
           },
           "bgcolor": "white",
           "caxis": {
            "gridcolor": "#DFE8F3",
            "linecolor": "#A2B1C6",
            "ticks": ""
           }
          },
          "title": {
           "x": 0.05
          },
          "xaxis": {
           "automargin": true,
           "gridcolor": "#EBF0F8",
           "linecolor": "#EBF0F8",
           "ticks": "",
           "title": {
            "standoff": 15
           },
           "zerolinecolor": "#EBF0F8",
           "zerolinewidth": 2
          },
          "yaxis": {
           "automargin": true,
           "gridcolor": "#EBF0F8",
           "linecolor": "#EBF0F8",
           "ticks": "",
           "title": {
            "standoff": 15
           },
           "zerolinecolor": "#EBF0F8",
           "zerolinewidth": 2
          }
         }
        },
        "title": {
         "text": "Augment Probability during Training"
        },
        "xaxis": {
         "title": {
          "text": "kimg"
         }
        },
        "yaxis": {
         "tickformat": "p",
         "title": {
          "text": "Augment Probability"
         }
        }
       }
      }
     },
     "metadata": {},
     "output_type": "display_data"
    }
   ],
   "source": [
    "# Plot G and D loss together\n",
    "fig1 = go.Figure()\n",
    "for metric in [\"Loss/G/loss\", \"Loss/D/loss\"]:\n",
    "    if metric == \"Loss/G/loss\":\n",
    "        name = \"Generator Loss\"\n",
    "    else:\n",
    "        name = \"Discriminator Loss\"\n",
    "    \n",
    "    if metric in df_pivot.columns:\n",
    "        fig1.add_trace(go.Scatter(x=df_pivot.index, y=df_pivot[metric],\n",
    "                                  mode=\"lines\", name=name))\n",
    "fig1.update_layout(\n",
    "    title=\"Generator and Discriminator Loss\",\n",
    "    xaxis_title=\"kimg\",\n",
    "    yaxis_title=\"Loss\",\n",
    "    template=\"plotly_white\",\n",
    "    legend=dict(x=0, y=1)\n",
    ")\n",
    "fig1.show()\n",
    "fig1.write_image(\"../data/figs/Generator and Discriminator Loss.png\")\n",
    "\n",
    "# Plot scores fakes and real together\n",
    "fig2 = go.Figure()\n",
    "for metric in [\"Loss/scores/fake\", \"Loss/scores/real\"]:\n",
    "    if metric in df_pivot.columns:\n",
    "        fig2.add_trace(go.Scatter(x=df_pivot.index, y=df_pivot[metric],\n",
    "                                  mode=\"lines\", name=metric))\n",
    "fig2.update_layout(\n",
    "    title=\"Discriminator Real/Fake Scores\",\n",
    "    xaxis_title=\"kimg\",\n",
    "    yaxis_title=\"Score\",\n",
    "    template=\"plotly_white\",\n",
    "    legend=dict(x=0, y=1)\n",
    ")\n",
    "fig2.show()\n",
    "fig2.write_image(\"../data/figs/Discriminator Real-Fake Scores.png\")\n",
    "\n",
    "# Plot pl_penalty alone\n",
    "fig3 = go.Figure()\n",
    "if \"Loss/pl_penalty\" in df_pivot.columns:\n",
    "    fig3.add_trace(go.Scatter(x=df_pivot.index, y=df_pivot[\"Loss/pl_penalty\"],\n",
    "                              mode=\"lines\", name=\"Loss/pl_penalty\"))\n",
    "fig3.update_layout(\n",
    "    title=\"Loss pl_penalty\",\n",
    "    xaxis_title=\"kimg\",\n",
    "    yaxis_title=\"Penalty\",\n",
    "    template=\"plotly_white\",\n",
    "    legend=dict(x=0, y=1)\n",
    ")\n",
    "fig3.show()\n",
    "fig3.write_image(\"../data/figs/Loss pl_penalty.png\")\n",
    "\n",
    "# Plot progress augment alone\n",
    "fig4 = go.Figure()\n",
    "if \"Progress/augment\" in df_pivot.columns:\n",
    "    fig4.add_trace(go.Scatter(x=df_pivot.index, y=df_pivot[\"Progress/augment\"],\n",
    "                              mode=\"lines\", name=\"Progress/augment\"))\n",
    "fig4.update_layout(\n",
    "    title=\"Augment Probability during Training\",\n",
    "    xaxis_title=\"kimg\",\n",
    "    yaxis_title=\"Augment Probability\",\n",
    "    yaxis_tickformat='p',\n",
    "    template=\"plotly_white\",\n",
    "    legend=dict(x=0, y=1)\n",
    ")\n",
    "fig4.show()\n",
    "fig4.write_image(\"../data/figs/Augment Probability during Training.png\")\n"
   ]
  },
  {
   "cell_type": "code",
   "execution_count": null,
   "id": "d1fd777a",
   "metadata": {},
   "outputs": [],
   "source": []
  }
 ],
 "metadata": {
  "kernelspec": {
   "display_name": "deep-learning",
   "language": "python",
   "name": "python3"
  },
  "language_info": {
   "codemirror_mode": {
    "name": "ipython",
    "version": 3
   },
   "file_extension": ".py",
   "mimetype": "text/x-python",
   "name": "python",
   "nbconvert_exporter": "python",
   "pygments_lexer": "ipython3",
   "version": "3.12.2"
  }
 },
 "nbformat": 4,
 "nbformat_minor": 5
}
